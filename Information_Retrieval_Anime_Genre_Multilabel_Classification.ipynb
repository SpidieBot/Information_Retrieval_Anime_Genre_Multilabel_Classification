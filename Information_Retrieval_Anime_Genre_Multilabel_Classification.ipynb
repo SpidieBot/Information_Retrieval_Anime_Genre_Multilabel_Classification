{
  "nbformat": 4,
  "nbformat_minor": 0,
  "metadata": {
    "colab": {
      "name": "Anime Genre Multilabel Classification.ipynb",
      "provenance": [],
      "collapsed_sections": [
        "PhGWF1Li5Pz6",
        "LuQ5zvKIMqlN"
      ]
    },
    "kernelspec": {
      "name": "python3",
      "display_name": "Python 3"
    },
    "accelerator": "GPU"
  },
  "cells": [
    {
      "cell_type": "markdown",
      "metadata": {
        "id": "0d0dWBIPyffw"
      },
      "source": [
        "# CLASS: LB01\r\n",
        "\r\n",
        "\r\n",
        "### Bryan Leonardo\t\t\t\t(2201745004)\r\n",
        "### Daniel Richardo \t\t\t\t\t(2201744531)\r\n",
        "### Derren Delano Soerjadi\t\t\t\t (2201740571)\r\n",
        "### Giodio Nathanael Pratama Mitaart\t\t (2201768310)\r\n",
        "### John Andray William Doney\t\t\t (2201812570)"
      ]
    },
    {
      "cell_type": "code",
      "metadata": {
        "id": "_G8jDnyacgcC",
        "colab": {
          "base_uri": "https://localhost:8080/"
        },
        "outputId": "5135ff6e-2e04-413a-cfbe-601b7b5f38be"
      },
      "source": [
        "from google.colab import drive\n",
        "drive.mount('/content/drive')"
      ],
      "execution_count": 182,
      "outputs": [
        {
          "output_type": "stream",
          "text": [
            "Drive already mounted at /content/drive; to attempt to forcibly remount, call drive.mount(\"/content/drive\", force_remount=True).\n"
          ],
          "name": "stdout"
        }
      ]
    },
    {
      "cell_type": "code",
      "metadata": {
        "id": "BQkEeEDmu3dr",
        "colab": {
          "base_uri": "https://localhost:8080/"
        },
        "outputId": "e6366a99-ef99-4ec2-c07b-a924e8ef36ed"
      },
      "source": [
        "import pandas as pd\n",
        "import numpy as np\n",
        "import re\n",
        "import string\n",
        "import nltk\n",
        "from nltk.corpus import stopwords\n",
        "from nltk.tokenize import word_tokenize\n",
        "import ast\n",
        "from sklearn.preprocessing import MultiLabelBinarizer\n",
        "from sklearn import metrics\n",
        "\n",
        "nltk.download('stopwords')\n",
        "nltk.download('punkt')"
      ],
      "execution_count": 183,
      "outputs": [
        {
          "output_type": "stream",
          "text": [
            "[nltk_data] Downloading package stopwords to /root/nltk_data...\n",
            "[nltk_data]   Package stopwords is already up-to-date!\n",
            "[nltk_data] Downloading package punkt to /root/nltk_data...\n",
            "[nltk_data]   Package punkt is already up-to-date!\n"
          ],
          "name": "stdout"
        },
        {
          "output_type": "execute_result",
          "data": {
            "text/plain": [
              "True"
            ]
          },
          "metadata": {
            "tags": []
          },
          "execution_count": 183
        }
      ]
    },
    {
      "cell_type": "markdown",
      "metadata": {
        "id": "PhGWF1Li5Pz6"
      },
      "source": [
        "# Getting the dataset"
      ]
    },
    {
      "cell_type": "code",
      "metadata": {
        "id": "yBjTFPt3x-2R"
      },
      "source": [
        "dataset = pd.read_csv('/content/drive/MyDrive/Colab Notebooks/IR Project/Anime.csv')"
      ],
      "execution_count": 184,
      "outputs": []
    },
    {
      "cell_type": "code",
      "metadata": {
        "id": "Ses2Ir6szo-c",
        "colab": {
          "base_uri": "https://localhost:8080/"
        },
        "outputId": "e7bb9673-8ed9-457d-9797-a5bd318b450e"
      },
      "source": [
        "print(dataset.head())\n",
        "for col in dataset.columns: \n",
        "    print(col) "
      ],
      "execution_count": 185,
      "outputs": [
        {
          "output_type": "stream",
          "text": [
            "   animeID  ...                                            related\n",
            "0        1  ...  {'Adaptation': [{'mal_id': 173, 'type': 'manga...\n",
            "1        5  ...  {'Parent story': [{'mal_id': 1, 'type': 'anime...\n",
            "2        6  ...  {'Adaptation': [{'mal_id': 703, 'type': 'manga...\n",
            "3        7  ...                                                 {}\n",
            "4        8  ...  {'Adaptation': [{'mal_id': 1348, 'type': 'mang...\n",
            "\n",
            "[5 rows x 27 columns]\n",
            "animeID\n",
            " name\n",
            " title_english\n",
            " title_japanese\n",
            " title_synonyms\n",
            " type\n",
            " source\n",
            " producers\n",
            " genre\n",
            " studio\n",
            " episodes\n",
            " status\n",
            " airing\n",
            " aired\n",
            " duration\n",
            " rating\n",
            " score\n",
            " scored_by\n",
            " rank\n",
            " popularity\n",
            " members\n",
            " favorites\n",
            " synopsis\n",
            " background\n",
            " premiered\n",
            " broadcast\n",
            " related\n"
          ],
          "name": "stdout"
        }
      ]
    },
    {
      "cell_type": "code",
      "metadata": {
        "id": "-jH-XHIfyoEO",
        "colab": {
          "base_uri": "https://localhost:8080/",
          "height": 419
        },
        "outputId": "882d91ff-2d41-411f-eebc-bc3d2f67813a"
      },
      "source": [
        "data = pd.DataFrame()\n",
        "data[['name', 'synopsis', 'genres']] = dataset[[' name',  \" synopsis\", \" genre\"]].copy()\n",
        "data"
      ],
      "execution_count": 186,
      "outputs": [
        {
          "output_type": "execute_result",
          "data": {
            "text/html": [
              "<div>\n",
              "<style scoped>\n",
              "    .dataframe tbody tr th:only-of-type {\n",
              "        vertical-align: middle;\n",
              "    }\n",
              "\n",
              "    .dataframe tbody tr th {\n",
              "        vertical-align: top;\n",
              "    }\n",
              "\n",
              "    .dataframe thead th {\n",
              "        text-align: right;\n",
              "    }\n",
              "</style>\n",
              "<table border=\"1\" class=\"dataframe\">\n",
              "  <thead>\n",
              "    <tr style=\"text-align: right;\">\n",
              "      <th></th>\n",
              "      <th>name</th>\n",
              "      <th>synopsis</th>\n",
              "      <th>genres</th>\n",
              "    </tr>\n",
              "  </thead>\n",
              "  <tbody>\n",
              "    <tr>\n",
              "      <th>0</th>\n",
              "      <td>Cowboy Bebop</td>\n",
              "      <td>In the year 2071, humanity has colonized sever...</td>\n",
              "      <td>['Action', 'Adventure', 'Comedy', 'Drama', 'Sc...</td>\n",
              "    </tr>\n",
              "    <tr>\n",
              "      <th>1</th>\n",
              "      <td>Cowboy Bebop: Tengoku no Tobira</td>\n",
              "      <td>Another day, another bounty—such is the life o...</td>\n",
              "      <td>['Action', 'Drama', 'Mystery', 'Sci-Fi', 'Space']</td>\n",
              "    </tr>\n",
              "    <tr>\n",
              "      <th>2</th>\n",
              "      <td>Trigun</td>\n",
              "      <td>Vash the Stampede is the man with a $$60,000,0...</td>\n",
              "      <td>['Action', 'Sci-Fi', 'Adventure', 'Comedy', 'D...</td>\n",
              "    </tr>\n",
              "    <tr>\n",
              "      <th>3</th>\n",
              "      <td>Witch Hunter Robin</td>\n",
              "      <td>Witches are individuals with special powers li...</td>\n",
              "      <td>['Action', 'Magic', 'Police', 'Supernatural', ...</td>\n",
              "    </tr>\n",
              "    <tr>\n",
              "      <th>4</th>\n",
              "      <td>Bouken Ou Beet</td>\n",
              "      <td>It is the dark century and the people are suff...</td>\n",
              "      <td>['Adventure', 'Fantasy', 'Shounen', 'Supernatu...</td>\n",
              "    </tr>\n",
              "    <tr>\n",
              "      <th>...</th>\n",
              "      <td>...</td>\n",
              "      <td>...</td>\n",
              "      <td>...</td>\n",
              "    </tr>\n",
              "    <tr>\n",
              "      <th>15273</th>\n",
              "      <td>Beastars</td>\n",
              "      <td>In a world populated by anthropomorphic animal...</td>\n",
              "      <td>['Slice of Life', 'Psychological', 'Drama', 'S...</td>\n",
              "    </tr>\n",
              "    <tr>\n",
              "      <th>15274</th>\n",
              "      <td>Mairimashita! Iruma-kun</td>\n",
              "      <td>Suzuki Iruma has been sold to the demon by his...</td>\n",
              "      <td>['Comedy', 'Demons', 'Supernatural', 'Fantasy'...</td>\n",
              "    </tr>\n",
              "    <tr>\n",
              "      <th>15275</th>\n",
              "      <td>Karrimor Mountain Club</td>\n",
              "      <td>A series of animated commercials produced by K...</td>\n",
              "      <td>['Adventure', 'Slice of Life']</td>\n",
              "    </tr>\n",
              "    <tr>\n",
              "      <th>15276</th>\n",
              "      <td>Kanata no Astra</td>\n",
              "      <td>The year is 2061, when space travel is now pos...</td>\n",
              "      <td>['Action', 'Sci-Fi', 'Shounen', 'Space']</td>\n",
              "    </tr>\n",
              "    <tr>\n",
              "      <th>15277</th>\n",
              "      <td>Katsute Kami Datta Kemono-tachi e</td>\n",
              "      <td>During the Civil War, the North—desperate to d...</td>\n",
              "      <td>['Fantasy', 'Shounen']</td>\n",
              "    </tr>\n",
              "  </tbody>\n",
              "</table>\n",
              "<p>15278 rows × 3 columns</p>\n",
              "</div>"
            ],
            "text/plain": [
              "                                    name  ...                                             genres\n",
              "0                           Cowboy Bebop  ...  ['Action', 'Adventure', 'Comedy', 'Drama', 'Sc...\n",
              "1        Cowboy Bebop: Tengoku no Tobira  ...  ['Action', 'Drama', 'Mystery', 'Sci-Fi', 'Space']\n",
              "2                                 Trigun  ...  ['Action', 'Sci-Fi', 'Adventure', 'Comedy', 'D...\n",
              "3                     Witch Hunter Robin  ...  ['Action', 'Magic', 'Police', 'Supernatural', ...\n",
              "4                         Bouken Ou Beet  ...  ['Adventure', 'Fantasy', 'Shounen', 'Supernatu...\n",
              "...                                  ...  ...                                                ...\n",
              "15273                           Beastars  ...  ['Slice of Life', 'Psychological', 'Drama', 'S...\n",
              "15274            Mairimashita! Iruma-kun  ...  ['Comedy', 'Demons', 'Supernatural', 'Fantasy'...\n",
              "15275             Karrimor Mountain Club  ...                     ['Adventure', 'Slice of Life']\n",
              "15276                    Kanata no Astra  ...           ['Action', 'Sci-Fi', 'Shounen', 'Space']\n",
              "15277  Katsute Kami Datta Kemono-tachi e  ...                             ['Fantasy', 'Shounen']\n",
              "\n",
              "[15278 rows x 3 columns]"
            ]
          },
          "metadata": {
            "tags": []
          },
          "execution_count": 186
        }
      ]
    },
    {
      "cell_type": "markdown",
      "metadata": {
        "id": "K_JyKceX5Ulo"
      },
      "source": [
        "# Preprocessing the data"
      ]
    },
    {
      "cell_type": "markdown",
      "metadata": {
        "id": "LuQ5zvKIMqlN"
      },
      "source": [
        "## Preprocessing the texts"
      ]
    },
    {
      "cell_type": "code",
      "metadata": {
        "id": "OS2el05tMxVq",
        "colab": {
          "base_uri": "https://localhost:8080/"
        },
        "outputId": "c8d3b2cc-8728-408e-b254-3183a5ad7d3c"
      },
      "source": [
        "data.isna().values.any()"
      ],
      "execution_count": 187,
      "outputs": [
        {
          "output_type": "execute_result",
          "data": {
            "text/plain": [
              "True"
            ]
          },
          "metadata": {
            "tags": []
          },
          "execution_count": 187
        }
      ]
    },
    {
      "cell_type": "code",
      "metadata": {
        "id": "FCGo8NdYNsxp",
        "colab": {
          "base_uri": "https://localhost:8080/",
          "height": 419
        },
        "outputId": "00fe1e4f-6912-46ce-e897-5b6bac0755dd"
      },
      "source": [
        "data.dropna(inplace=True)\n",
        "data.reset_index(drop=True, inplace=True)\n",
        "data"
      ],
      "execution_count": 188,
      "outputs": [
        {
          "output_type": "execute_result",
          "data": {
            "text/html": [
              "<div>\n",
              "<style scoped>\n",
              "    .dataframe tbody tr th:only-of-type {\n",
              "        vertical-align: middle;\n",
              "    }\n",
              "\n",
              "    .dataframe tbody tr th {\n",
              "        vertical-align: top;\n",
              "    }\n",
              "\n",
              "    .dataframe thead th {\n",
              "        text-align: right;\n",
              "    }\n",
              "</style>\n",
              "<table border=\"1\" class=\"dataframe\">\n",
              "  <thead>\n",
              "    <tr style=\"text-align: right;\">\n",
              "      <th></th>\n",
              "      <th>name</th>\n",
              "      <th>synopsis</th>\n",
              "      <th>genres</th>\n",
              "    </tr>\n",
              "  </thead>\n",
              "  <tbody>\n",
              "    <tr>\n",
              "      <th>0</th>\n",
              "      <td>Cowboy Bebop</td>\n",
              "      <td>In the year 2071, humanity has colonized sever...</td>\n",
              "      <td>['Action', 'Adventure', 'Comedy', 'Drama', 'Sc...</td>\n",
              "    </tr>\n",
              "    <tr>\n",
              "      <th>1</th>\n",
              "      <td>Cowboy Bebop: Tengoku no Tobira</td>\n",
              "      <td>Another day, another bounty—such is the life o...</td>\n",
              "      <td>['Action', 'Drama', 'Mystery', 'Sci-Fi', 'Space']</td>\n",
              "    </tr>\n",
              "    <tr>\n",
              "      <th>2</th>\n",
              "      <td>Trigun</td>\n",
              "      <td>Vash the Stampede is the man with a $$60,000,0...</td>\n",
              "      <td>['Action', 'Sci-Fi', 'Adventure', 'Comedy', 'D...</td>\n",
              "    </tr>\n",
              "    <tr>\n",
              "      <th>3</th>\n",
              "      <td>Witch Hunter Robin</td>\n",
              "      <td>Witches are individuals with special powers li...</td>\n",
              "      <td>['Action', 'Magic', 'Police', 'Supernatural', ...</td>\n",
              "    </tr>\n",
              "    <tr>\n",
              "      <th>4</th>\n",
              "      <td>Bouken Ou Beet</td>\n",
              "      <td>It is the dark century and the people are suff...</td>\n",
              "      <td>['Adventure', 'Fantasy', 'Shounen', 'Supernatu...</td>\n",
              "    </tr>\n",
              "    <tr>\n",
              "      <th>...</th>\n",
              "      <td>...</td>\n",
              "      <td>...</td>\n",
              "      <td>...</td>\n",
              "    </tr>\n",
              "    <tr>\n",
              "      <th>14560</th>\n",
              "      <td>Beastars</td>\n",
              "      <td>In a world populated by anthropomorphic animal...</td>\n",
              "      <td>['Slice of Life', 'Psychological', 'Drama', 'S...</td>\n",
              "    </tr>\n",
              "    <tr>\n",
              "      <th>14561</th>\n",
              "      <td>Mairimashita! Iruma-kun</td>\n",
              "      <td>Suzuki Iruma has been sold to the demon by his...</td>\n",
              "      <td>['Comedy', 'Demons', 'Supernatural', 'Fantasy'...</td>\n",
              "    </tr>\n",
              "    <tr>\n",
              "      <th>14562</th>\n",
              "      <td>Karrimor Mountain Club</td>\n",
              "      <td>A series of animated commercials produced by K...</td>\n",
              "      <td>['Adventure', 'Slice of Life']</td>\n",
              "    </tr>\n",
              "    <tr>\n",
              "      <th>14563</th>\n",
              "      <td>Kanata no Astra</td>\n",
              "      <td>The year is 2061, when space travel is now pos...</td>\n",
              "      <td>['Action', 'Sci-Fi', 'Shounen', 'Space']</td>\n",
              "    </tr>\n",
              "    <tr>\n",
              "      <th>14564</th>\n",
              "      <td>Katsute Kami Datta Kemono-tachi e</td>\n",
              "      <td>During the Civil War, the North—desperate to d...</td>\n",
              "      <td>['Fantasy', 'Shounen']</td>\n",
              "    </tr>\n",
              "  </tbody>\n",
              "</table>\n",
              "<p>14565 rows × 3 columns</p>\n",
              "</div>"
            ],
            "text/plain": [
              "                                    name  ...                                             genres\n",
              "0                           Cowboy Bebop  ...  ['Action', 'Adventure', 'Comedy', 'Drama', 'Sc...\n",
              "1        Cowboy Bebop: Tengoku no Tobira  ...  ['Action', 'Drama', 'Mystery', 'Sci-Fi', 'Space']\n",
              "2                                 Trigun  ...  ['Action', 'Sci-Fi', 'Adventure', 'Comedy', 'D...\n",
              "3                     Witch Hunter Robin  ...  ['Action', 'Magic', 'Police', 'Supernatural', ...\n",
              "4                         Bouken Ou Beet  ...  ['Adventure', 'Fantasy', 'Shounen', 'Supernatu...\n",
              "...                                  ...  ...                                                ...\n",
              "14560                           Beastars  ...  ['Slice of Life', 'Psychological', 'Drama', 'S...\n",
              "14561            Mairimashita! Iruma-kun  ...  ['Comedy', 'Demons', 'Supernatural', 'Fantasy'...\n",
              "14562             Karrimor Mountain Club  ...                     ['Adventure', 'Slice of Life']\n",
              "14563                    Kanata no Astra  ...           ['Action', 'Sci-Fi', 'Shounen', 'Space']\n",
              "14564  Katsute Kami Datta Kemono-tachi e  ...                             ['Fantasy', 'Shounen']\n",
              "\n",
              "[14565 rows x 3 columns]"
            ]
          },
          "metadata": {
            "tags": []
          },
          "execution_count": 188
        }
      ]
    },
    {
      "cell_type": "code",
      "metadata": {
        "id": "hx3bok0z2QYz",
        "colab": {
          "base_uri": "https://localhost:8080/",
          "height": 204
        },
        "outputId": "4551d012-f812-4a66-f5fa-6490a2e47157"
      },
      "source": [
        "data.synopsis = data.synopsis.str.lower()\n",
        "data.genres = data.genres.str.lower()\n",
        "data.head()"
      ],
      "execution_count": 189,
      "outputs": [
        {
          "output_type": "execute_result",
          "data": {
            "text/html": [
              "<div>\n",
              "<style scoped>\n",
              "    .dataframe tbody tr th:only-of-type {\n",
              "        vertical-align: middle;\n",
              "    }\n",
              "\n",
              "    .dataframe tbody tr th {\n",
              "        vertical-align: top;\n",
              "    }\n",
              "\n",
              "    .dataframe thead th {\n",
              "        text-align: right;\n",
              "    }\n",
              "</style>\n",
              "<table border=\"1\" class=\"dataframe\">\n",
              "  <thead>\n",
              "    <tr style=\"text-align: right;\">\n",
              "      <th></th>\n",
              "      <th>name</th>\n",
              "      <th>synopsis</th>\n",
              "      <th>genres</th>\n",
              "    </tr>\n",
              "  </thead>\n",
              "  <tbody>\n",
              "    <tr>\n",
              "      <th>0</th>\n",
              "      <td>Cowboy Bebop</td>\n",
              "      <td>in the year 2071, humanity has colonized sever...</td>\n",
              "      <td>['action', 'adventure', 'comedy', 'drama', 'sc...</td>\n",
              "    </tr>\n",
              "    <tr>\n",
              "      <th>1</th>\n",
              "      <td>Cowboy Bebop: Tengoku no Tobira</td>\n",
              "      <td>another day, another bounty—such is the life o...</td>\n",
              "      <td>['action', 'drama', 'mystery', 'sci-fi', 'space']</td>\n",
              "    </tr>\n",
              "    <tr>\n",
              "      <th>2</th>\n",
              "      <td>Trigun</td>\n",
              "      <td>vash the stampede is the man with a $$60,000,0...</td>\n",
              "      <td>['action', 'sci-fi', 'adventure', 'comedy', 'd...</td>\n",
              "    </tr>\n",
              "    <tr>\n",
              "      <th>3</th>\n",
              "      <td>Witch Hunter Robin</td>\n",
              "      <td>witches are individuals with special powers li...</td>\n",
              "      <td>['action', 'magic', 'police', 'supernatural', ...</td>\n",
              "    </tr>\n",
              "    <tr>\n",
              "      <th>4</th>\n",
              "      <td>Bouken Ou Beet</td>\n",
              "      <td>it is the dark century and the people are suff...</td>\n",
              "      <td>['adventure', 'fantasy', 'shounen', 'supernatu...</td>\n",
              "    </tr>\n",
              "  </tbody>\n",
              "</table>\n",
              "</div>"
            ],
            "text/plain": [
              "                              name  ...                                             genres\n",
              "0                     Cowboy Bebop  ...  ['action', 'adventure', 'comedy', 'drama', 'sc...\n",
              "1  Cowboy Bebop: Tengoku no Tobira  ...  ['action', 'drama', 'mystery', 'sci-fi', 'space']\n",
              "2                           Trigun  ...  ['action', 'sci-fi', 'adventure', 'comedy', 'd...\n",
              "3               Witch Hunter Robin  ...  ['action', 'magic', 'police', 'supernatural', ...\n",
              "4                   Bouken Ou Beet  ...  ['adventure', 'fantasy', 'shounen', 'supernatu...\n",
              "\n",
              "[5 rows x 3 columns]"
            ]
          },
          "metadata": {
            "tags": []
          },
          "execution_count": 189
        }
      ]
    },
    {
      "cell_type": "code",
      "metadata": {
        "id": "cRhCsP0VRvN5",
        "colab": {
          "base_uri": "https://localhost:8080/",
          "height": 204
        },
        "outputId": "15a23848-2006-4ffd-da94-ed5fecb8f926"
      },
      "source": [
        "for i in range(data.shape[0]):\n",
        "  data.synopsis[i] = re.sub(r'\\d+','',data.synopsis[i])\n",
        "data.head()"
      ],
      "execution_count": 190,
      "outputs": [
        {
          "output_type": "execute_result",
          "data": {
            "text/html": [
              "<div>\n",
              "<style scoped>\n",
              "    .dataframe tbody tr th:only-of-type {\n",
              "        vertical-align: middle;\n",
              "    }\n",
              "\n",
              "    .dataframe tbody tr th {\n",
              "        vertical-align: top;\n",
              "    }\n",
              "\n",
              "    .dataframe thead th {\n",
              "        text-align: right;\n",
              "    }\n",
              "</style>\n",
              "<table border=\"1\" class=\"dataframe\">\n",
              "  <thead>\n",
              "    <tr style=\"text-align: right;\">\n",
              "      <th></th>\n",
              "      <th>name</th>\n",
              "      <th>synopsis</th>\n",
              "      <th>genres</th>\n",
              "    </tr>\n",
              "  </thead>\n",
              "  <tbody>\n",
              "    <tr>\n",
              "      <th>0</th>\n",
              "      <td>Cowboy Bebop</td>\n",
              "      <td>in the year , humanity has colonized several o...</td>\n",
              "      <td>['action', 'adventure', 'comedy', 'drama', 'sc...</td>\n",
              "    </tr>\n",
              "    <tr>\n",
              "      <th>1</th>\n",
              "      <td>Cowboy Bebop: Tengoku no Tobira</td>\n",
              "      <td>another day, another bounty—such is the life o...</td>\n",
              "      <td>['action', 'drama', 'mystery', 'sci-fi', 'space']</td>\n",
              "    </tr>\n",
              "    <tr>\n",
              "      <th>2</th>\n",
              "      <td>Trigun</td>\n",
              "      <td>vash the stampede is the man with a $$,,, boun...</td>\n",
              "      <td>['action', 'sci-fi', 'adventure', 'comedy', 'd...</td>\n",
              "    </tr>\n",
              "    <tr>\n",
              "      <th>3</th>\n",
              "      <td>Witch Hunter Robin</td>\n",
              "      <td>witches are individuals with special powers li...</td>\n",
              "      <td>['action', 'magic', 'police', 'supernatural', ...</td>\n",
              "    </tr>\n",
              "    <tr>\n",
              "      <th>4</th>\n",
              "      <td>Bouken Ou Beet</td>\n",
              "      <td>it is the dark century and the people are suff...</td>\n",
              "      <td>['adventure', 'fantasy', 'shounen', 'supernatu...</td>\n",
              "    </tr>\n",
              "  </tbody>\n",
              "</table>\n",
              "</div>"
            ],
            "text/plain": [
              "                              name  ...                                             genres\n",
              "0                     Cowboy Bebop  ...  ['action', 'adventure', 'comedy', 'drama', 'sc...\n",
              "1  Cowboy Bebop: Tengoku no Tobira  ...  ['action', 'drama', 'mystery', 'sci-fi', 'space']\n",
              "2                           Trigun  ...  ['action', 'sci-fi', 'adventure', 'comedy', 'd...\n",
              "3               Witch Hunter Robin  ...  ['action', 'magic', 'police', 'supernatural', ...\n",
              "4                   Bouken Ou Beet  ...  ['adventure', 'fantasy', 'shounen', 'supernatu...\n",
              "\n",
              "[5 rows x 3 columns]"
            ]
          },
          "metadata": {
            "tags": []
          },
          "execution_count": 190
        }
      ]
    },
    {
      "cell_type": "code",
      "metadata": {
        "id": "EQhQrAsZSgJO",
        "colab": {
          "base_uri": "https://localhost:8080/",
          "height": 204
        },
        "outputId": "740e67d8-51ed-42b3-843b-30872ab9b3c0"
      },
      "source": [
        "for i in range(data.shape[0]):\n",
        "  data.synopsis[i] = data.synopsis[i].translate(str.maketrans(\"\",\"\",string.punctuation))\n",
        "data.head()"
      ],
      "execution_count": 191,
      "outputs": [
        {
          "output_type": "execute_result",
          "data": {
            "text/html": [
              "<div>\n",
              "<style scoped>\n",
              "    .dataframe tbody tr th:only-of-type {\n",
              "        vertical-align: middle;\n",
              "    }\n",
              "\n",
              "    .dataframe tbody tr th {\n",
              "        vertical-align: top;\n",
              "    }\n",
              "\n",
              "    .dataframe thead th {\n",
              "        text-align: right;\n",
              "    }\n",
              "</style>\n",
              "<table border=\"1\" class=\"dataframe\">\n",
              "  <thead>\n",
              "    <tr style=\"text-align: right;\">\n",
              "      <th></th>\n",
              "      <th>name</th>\n",
              "      <th>synopsis</th>\n",
              "      <th>genres</th>\n",
              "    </tr>\n",
              "  </thead>\n",
              "  <tbody>\n",
              "    <tr>\n",
              "      <th>0</th>\n",
              "      <td>Cowboy Bebop</td>\n",
              "      <td>in the year  humanity has colonized several of...</td>\n",
              "      <td>['action', 'adventure', 'comedy', 'drama', 'sc...</td>\n",
              "    </tr>\n",
              "    <tr>\n",
              "      <th>1</th>\n",
              "      <td>Cowboy Bebop: Tengoku no Tobira</td>\n",
              "      <td>another day another bounty—such is the life of...</td>\n",
              "      <td>['action', 'drama', 'mystery', 'sci-fi', 'space']</td>\n",
              "    </tr>\n",
              "    <tr>\n",
              "      <th>2</th>\n",
              "      <td>Trigun</td>\n",
              "      <td>vash the stampede is the man with a  bounty on...</td>\n",
              "      <td>['action', 'sci-fi', 'adventure', 'comedy', 'd...</td>\n",
              "    </tr>\n",
              "    <tr>\n",
              "      <th>3</th>\n",
              "      <td>Witch Hunter Robin</td>\n",
              "      <td>witches are individuals with special powers li...</td>\n",
              "      <td>['action', 'magic', 'police', 'supernatural', ...</td>\n",
              "    </tr>\n",
              "    <tr>\n",
              "      <th>4</th>\n",
              "      <td>Bouken Ou Beet</td>\n",
              "      <td>it is the dark century and the people are suff...</td>\n",
              "      <td>['adventure', 'fantasy', 'shounen', 'supernatu...</td>\n",
              "    </tr>\n",
              "  </tbody>\n",
              "</table>\n",
              "</div>"
            ],
            "text/plain": [
              "                              name  ...                                             genres\n",
              "0                     Cowboy Bebop  ...  ['action', 'adventure', 'comedy', 'drama', 'sc...\n",
              "1  Cowboy Bebop: Tengoku no Tobira  ...  ['action', 'drama', 'mystery', 'sci-fi', 'space']\n",
              "2                           Trigun  ...  ['action', 'sci-fi', 'adventure', 'comedy', 'd...\n",
              "3               Witch Hunter Robin  ...  ['action', 'magic', 'police', 'supernatural', ...\n",
              "4                   Bouken Ou Beet  ...  ['adventure', 'fantasy', 'shounen', 'supernatu...\n",
              "\n",
              "[5 rows x 3 columns]"
            ]
          },
          "metadata": {
            "tags": []
          },
          "execution_count": 191
        }
      ]
    },
    {
      "cell_type": "code",
      "metadata": {
        "id": "9ea-_57Dmj0u",
        "colab": {
          "base_uri": "https://localhost:8080/",
          "height": 204
        },
        "outputId": "d68ac801-d7ee-4b6a-aa36-37382e021904"
      },
      "source": [
        "data.synopsis = data.synopsis.str.replace('([^\\sA-Za-z])', ' ')\n",
        "data.head()"
      ],
      "execution_count": 192,
      "outputs": [
        {
          "output_type": "execute_result",
          "data": {
            "text/html": [
              "<div>\n",
              "<style scoped>\n",
              "    .dataframe tbody tr th:only-of-type {\n",
              "        vertical-align: middle;\n",
              "    }\n",
              "\n",
              "    .dataframe tbody tr th {\n",
              "        vertical-align: top;\n",
              "    }\n",
              "\n",
              "    .dataframe thead th {\n",
              "        text-align: right;\n",
              "    }\n",
              "</style>\n",
              "<table border=\"1\" class=\"dataframe\">\n",
              "  <thead>\n",
              "    <tr style=\"text-align: right;\">\n",
              "      <th></th>\n",
              "      <th>name</th>\n",
              "      <th>synopsis</th>\n",
              "      <th>genres</th>\n",
              "    </tr>\n",
              "  </thead>\n",
              "  <tbody>\n",
              "    <tr>\n",
              "      <th>0</th>\n",
              "      <td>Cowboy Bebop</td>\n",
              "      <td>in the year  humanity has colonized several of...</td>\n",
              "      <td>['action', 'adventure', 'comedy', 'drama', 'sc...</td>\n",
              "    </tr>\n",
              "    <tr>\n",
              "      <th>1</th>\n",
              "      <td>Cowboy Bebop: Tengoku no Tobira</td>\n",
              "      <td>another day another bounty such is the life of...</td>\n",
              "      <td>['action', 'drama', 'mystery', 'sci-fi', 'space']</td>\n",
              "    </tr>\n",
              "    <tr>\n",
              "      <th>2</th>\n",
              "      <td>Trigun</td>\n",
              "      <td>vash the stampede is the man with a  bounty on...</td>\n",
              "      <td>['action', 'sci-fi', 'adventure', 'comedy', 'd...</td>\n",
              "    </tr>\n",
              "    <tr>\n",
              "      <th>3</th>\n",
              "      <td>Witch Hunter Robin</td>\n",
              "      <td>witches are individuals with special powers li...</td>\n",
              "      <td>['action', 'magic', 'police', 'supernatural', ...</td>\n",
              "    </tr>\n",
              "    <tr>\n",
              "      <th>4</th>\n",
              "      <td>Bouken Ou Beet</td>\n",
              "      <td>it is the dark century and the people are suff...</td>\n",
              "      <td>['adventure', 'fantasy', 'shounen', 'supernatu...</td>\n",
              "    </tr>\n",
              "  </tbody>\n",
              "</table>\n",
              "</div>"
            ],
            "text/plain": [
              "                              name  ...                                             genres\n",
              "0                     Cowboy Bebop  ...  ['action', 'adventure', 'comedy', 'drama', 'sc...\n",
              "1  Cowboy Bebop: Tengoku no Tobira  ...  ['action', 'drama', 'mystery', 'sci-fi', 'space']\n",
              "2                           Trigun  ...  ['action', 'sci-fi', 'adventure', 'comedy', 'd...\n",
              "3               Witch Hunter Robin  ...  ['action', 'magic', 'police', 'supernatural', ...\n",
              "4                   Bouken Ou Beet  ...  ['adventure', 'fantasy', 'shounen', 'supernatu...\n",
              "\n",
              "[5 rows x 3 columns]"
            ]
          },
          "metadata": {
            "tags": []
          },
          "execution_count": 192
        }
      ]
    },
    {
      "cell_type": "code",
      "metadata": {
        "id": "lToUPMChTBcq",
        "colab": {
          "base_uri": "https://localhost:8080/",
          "height": 204
        },
        "outputId": "8832ae75-cb94-4dee-9795-036ad1cc7aaa"
      },
      "source": [
        "for i in range(data.shape[0]):\n",
        "  data.synopsis[i] = data.synopsis[i].strip()\n",
        "data.head()"
      ],
      "execution_count": 193,
      "outputs": [
        {
          "output_type": "execute_result",
          "data": {
            "text/html": [
              "<div>\n",
              "<style scoped>\n",
              "    .dataframe tbody tr th:only-of-type {\n",
              "        vertical-align: middle;\n",
              "    }\n",
              "\n",
              "    .dataframe tbody tr th {\n",
              "        vertical-align: top;\n",
              "    }\n",
              "\n",
              "    .dataframe thead th {\n",
              "        text-align: right;\n",
              "    }\n",
              "</style>\n",
              "<table border=\"1\" class=\"dataframe\">\n",
              "  <thead>\n",
              "    <tr style=\"text-align: right;\">\n",
              "      <th></th>\n",
              "      <th>name</th>\n",
              "      <th>synopsis</th>\n",
              "      <th>genres</th>\n",
              "    </tr>\n",
              "  </thead>\n",
              "  <tbody>\n",
              "    <tr>\n",
              "      <th>0</th>\n",
              "      <td>Cowboy Bebop</td>\n",
              "      <td>in the year  humanity has colonized several of...</td>\n",
              "      <td>['action', 'adventure', 'comedy', 'drama', 'sc...</td>\n",
              "    </tr>\n",
              "    <tr>\n",
              "      <th>1</th>\n",
              "      <td>Cowboy Bebop: Tengoku no Tobira</td>\n",
              "      <td>another day another bounty such is the life of...</td>\n",
              "      <td>['action', 'drama', 'mystery', 'sci-fi', 'space']</td>\n",
              "    </tr>\n",
              "    <tr>\n",
              "      <th>2</th>\n",
              "      <td>Trigun</td>\n",
              "      <td>vash the stampede is the man with a  bounty on...</td>\n",
              "      <td>['action', 'sci-fi', 'adventure', 'comedy', 'd...</td>\n",
              "    </tr>\n",
              "    <tr>\n",
              "      <th>3</th>\n",
              "      <td>Witch Hunter Robin</td>\n",
              "      <td>witches are individuals with special powers li...</td>\n",
              "      <td>['action', 'magic', 'police', 'supernatural', ...</td>\n",
              "    </tr>\n",
              "    <tr>\n",
              "      <th>4</th>\n",
              "      <td>Bouken Ou Beet</td>\n",
              "      <td>it is the dark century and the people are suff...</td>\n",
              "      <td>['adventure', 'fantasy', 'shounen', 'supernatu...</td>\n",
              "    </tr>\n",
              "  </tbody>\n",
              "</table>\n",
              "</div>"
            ],
            "text/plain": [
              "                              name  ...                                             genres\n",
              "0                     Cowboy Bebop  ...  ['action', 'adventure', 'comedy', 'drama', 'sc...\n",
              "1  Cowboy Bebop: Tengoku no Tobira  ...  ['action', 'drama', 'mystery', 'sci-fi', 'space']\n",
              "2                           Trigun  ...  ['action', 'sci-fi', 'adventure', 'comedy', 'd...\n",
              "3               Witch Hunter Robin  ...  ['action', 'magic', 'police', 'supernatural', ...\n",
              "4                   Bouken Ou Beet  ...  ['adventure', 'fantasy', 'shounen', 'supernatu...\n",
              "\n",
              "[5 rows x 3 columns]"
            ]
          },
          "metadata": {
            "tags": []
          },
          "execution_count": 193
        }
      ]
    },
    {
      "cell_type": "code",
      "metadata": {
        "id": "tkg7xfk5Tk5t",
        "colab": {
          "base_uri": "https://localhost:8080/",
          "height": 204
        },
        "outputId": "79e2aebc-bc31-4bcb-fca3-42e48610c2b7"
      },
      "source": [
        "stop_words = set(stopwords.words('english'))\n",
        "for i in range(data.shape[0]):\n",
        "  synopsis_token = word_tokenize(str(data.synopsis[i]))\n",
        "  data.synopsis[i] = [word for word in synopsis_token if not word in stop_words]\n",
        "data.head()"
      ],
      "execution_count": 194,
      "outputs": [
        {
          "output_type": "execute_result",
          "data": {
            "text/html": [
              "<div>\n",
              "<style scoped>\n",
              "    .dataframe tbody tr th:only-of-type {\n",
              "        vertical-align: middle;\n",
              "    }\n",
              "\n",
              "    .dataframe tbody tr th {\n",
              "        vertical-align: top;\n",
              "    }\n",
              "\n",
              "    .dataframe thead th {\n",
              "        text-align: right;\n",
              "    }\n",
              "</style>\n",
              "<table border=\"1\" class=\"dataframe\">\n",
              "  <thead>\n",
              "    <tr style=\"text-align: right;\">\n",
              "      <th></th>\n",
              "      <th>name</th>\n",
              "      <th>synopsis</th>\n",
              "      <th>genres</th>\n",
              "    </tr>\n",
              "  </thead>\n",
              "  <tbody>\n",
              "    <tr>\n",
              "      <th>0</th>\n",
              "      <td>Cowboy Bebop</td>\n",
              "      <td>[year, humanity, colonized, several, planets, ...</td>\n",
              "      <td>['action', 'adventure', 'comedy', 'drama', 'sc...</td>\n",
              "    </tr>\n",
              "    <tr>\n",
              "      <th>1</th>\n",
              "      <td>Cowboy Bebop: Tengoku no Tobira</td>\n",
              "      <td>[another, day, another, bounty, life, often, u...</td>\n",
              "      <td>['action', 'drama', 'mystery', 'sci-fi', 'space']</td>\n",
              "    </tr>\n",
              "    <tr>\n",
              "      <th>2</th>\n",
              "      <td>Trigun</td>\n",
              "      <td>[vash, stampede, man, bounty, head, reason, he...</td>\n",
              "      <td>['action', 'sci-fi', 'adventure', 'comedy', 'd...</td>\n",
              "    </tr>\n",
              "    <tr>\n",
              "      <th>3</th>\n",
              "      <td>Witch Hunter Robin</td>\n",
              "      <td>[witches, individuals, special, powers, like, ...</td>\n",
              "      <td>['action', 'magic', 'police', 'supernatural', ...</td>\n",
              "    </tr>\n",
              "    <tr>\n",
              "      <th>4</th>\n",
              "      <td>Bouken Ou Beet</td>\n",
              "      <td>[dark, century, people, suffering, rule, devil...</td>\n",
              "      <td>['adventure', 'fantasy', 'shounen', 'supernatu...</td>\n",
              "    </tr>\n",
              "  </tbody>\n",
              "</table>\n",
              "</div>"
            ],
            "text/plain": [
              "                              name  ...                                             genres\n",
              "0                     Cowboy Bebop  ...  ['action', 'adventure', 'comedy', 'drama', 'sc...\n",
              "1  Cowboy Bebop: Tengoku no Tobira  ...  ['action', 'drama', 'mystery', 'sci-fi', 'space']\n",
              "2                           Trigun  ...  ['action', 'sci-fi', 'adventure', 'comedy', 'd...\n",
              "3               Witch Hunter Robin  ...  ['action', 'magic', 'police', 'supernatural', ...\n",
              "4                   Bouken Ou Beet  ...  ['adventure', 'fantasy', 'shounen', 'supernatu...\n",
              "\n",
              "[5 rows x 3 columns]"
            ]
          },
          "metadata": {
            "tags": []
          },
          "execution_count": 194
        }
      ]
    },
    {
      "cell_type": "code",
      "metadata": {
        "id": "YGNUsxtmJNjk",
        "colab": {
          "base_uri": "https://localhost:8080/"
        },
        "outputId": "d0e909ba-5389-45dd-d306-71e488641bc2"
      },
      "source": [
        "from nltk.stem import PorterStemmer\n",
        "stemmer = PorterStemmer()\n",
        "\n",
        "def stem_list(row):\n",
        "    my_list = row['synopsis']\n",
        "    stemmed_list = [stemmer.stem(word) for word in my_list]\n",
        "    return (stemmed_list)\n",
        "\n",
        "data['stemmed_words'] = data.apply(stem_list, axis=1)\n",
        "data[\"stemmed_words\"]"
      ],
      "execution_count": 195,
      "outputs": [
        {
          "output_type": "execute_result",
          "data": {
            "text/plain": [
              "0        [year, human, colon, sever, planet, moon, sola...\n",
              "1        [anoth, day, anoth, bounti, life, often, unluc...\n",
              "2        [vash, stamped, man, bounti, head, reason, he,...\n",
              "3        [witch, individu, special, power, like, esp, t...\n",
              "4        [dark, centuri, peopl, suffer, rule, devil, va...\n",
              "                               ...                        \n",
              "14560    [world, popul, anthropomorph, anim, herbivor, ...\n",
              "14561    [suzuki, iruma, sold, demon, irrespons, parent...\n",
              "14562    [seri, anim, commerci, produc, karrimor, japan...\n",
              "14563    [year, space, travel, possibl, commerci, viabl...\n",
              "14564    [civil, war, north, desper, defeat, south, uti...\n",
              "Name: stemmed_words, Length: 14565, dtype: object"
            ]
          },
          "metadata": {
            "tags": []
          },
          "execution_count": 195
        }
      ]
    },
    {
      "cell_type": "code",
      "metadata": {
        "id": "bqd1ukc9JIRZ",
        "colab": {
          "base_uri": "https://localhost:8080/"
        },
        "outputId": "5afa2676-77fc-4f65-c42f-8ca715f89acc"
      },
      "source": [
        "def join(row):\n",
        "  separator = ' '\n",
        "  return separator.join(row['stemmed_words'])\n",
        "\n",
        "data['join_synopsis'] = data.apply(join, axis=1)\n",
        "data[\"join_synopsis\"]"
      ],
      "execution_count": 196,
      "outputs": [
        {
          "output_type": "execute_result",
          "data": {
            "text/plain": [
              "0        year human colon sever planet moon solar syste...\n",
              "1        anoth day anoth bounti life often unlucki crew...\n",
              "2        vash stamped man bounti head reason he mercile...\n",
              "3        witch individu special power like esp telekine...\n",
              "4        dark centuri peopl suffer rule devil vandel ab...\n",
              "                               ...                        \n",
              "14560    world popul anthropomorph anim herbivor carniv...\n",
              "14561    suzuki iruma sold demon irrespons parent excha...\n",
              "14562    seri anim commerci produc karrimor japan promo...\n",
              "14563    year space travel possibl commerci viabl stude...\n",
              "14564    civil war north desper defeat south util forbi...\n",
              "Name: join_synopsis, Length: 14565, dtype: object"
            ]
          },
          "metadata": {
            "tags": []
          },
          "execution_count": 196
        }
      ]
    },
    {
      "cell_type": "markdown",
      "metadata": {
        "id": "trnMFcqOMxTj"
      },
      "source": [
        "## Preprocessing the target"
      ]
    },
    {
      "cell_type": "code",
      "metadata": {
        "id": "bbWpC-cFSiiX",
        "colab": {
          "base_uri": "https://localhost:8080/"
        },
        "outputId": "33cf0b74-34fe-4340-dcab-cf3032bc9986"
      },
      "source": [
        "data.genres"
      ],
      "execution_count": 197,
      "outputs": [
        {
          "output_type": "execute_result",
          "data": {
            "text/plain": [
              "0        ['action', 'adventure', 'comedy', 'drama', 'sc...\n",
              "1        ['action', 'drama', 'mystery', 'sci-fi', 'space']\n",
              "2        ['action', 'sci-fi', 'adventure', 'comedy', 'd...\n",
              "3        ['action', 'magic', 'police', 'supernatural', ...\n",
              "4        ['adventure', 'fantasy', 'shounen', 'supernatu...\n",
              "                               ...                        \n",
              "14560    ['slice of life', 'psychological', 'drama', 's...\n",
              "14561    ['comedy', 'demons', 'supernatural', 'fantasy'...\n",
              "14562                       ['adventure', 'slice of life']\n",
              "14563             ['action', 'sci-fi', 'shounen', 'space']\n",
              "14564                               ['fantasy', 'shounen']\n",
              "Name: genres, Length: 14565, dtype: object"
            ]
          },
          "metadata": {
            "tags": []
          },
          "execution_count": 197
        }
      ]
    },
    {
      "cell_type": "code",
      "metadata": {
        "id": "n20bQOmhcILd",
        "colab": {
          "base_uri": "https://localhost:8080/",
          "height": 419
        },
        "outputId": "e7a98b0f-0dfb-4913-f836-da0560b45570"
      },
      "source": [
        "temp = pd.DataFrame(data.genres) \r\n",
        "temp"
      ],
      "execution_count": 198,
      "outputs": [
        {
          "output_type": "execute_result",
          "data": {
            "text/html": [
              "<div>\n",
              "<style scoped>\n",
              "    .dataframe tbody tr th:only-of-type {\n",
              "        vertical-align: middle;\n",
              "    }\n",
              "\n",
              "    .dataframe tbody tr th {\n",
              "        vertical-align: top;\n",
              "    }\n",
              "\n",
              "    .dataframe thead th {\n",
              "        text-align: right;\n",
              "    }\n",
              "</style>\n",
              "<table border=\"1\" class=\"dataframe\">\n",
              "  <thead>\n",
              "    <tr style=\"text-align: right;\">\n",
              "      <th></th>\n",
              "      <th>genres</th>\n",
              "    </tr>\n",
              "  </thead>\n",
              "  <tbody>\n",
              "    <tr>\n",
              "      <th>0</th>\n",
              "      <td>['action', 'adventure', 'comedy', 'drama', 'sc...</td>\n",
              "    </tr>\n",
              "    <tr>\n",
              "      <th>1</th>\n",
              "      <td>['action', 'drama', 'mystery', 'sci-fi', 'space']</td>\n",
              "    </tr>\n",
              "    <tr>\n",
              "      <th>2</th>\n",
              "      <td>['action', 'sci-fi', 'adventure', 'comedy', 'd...</td>\n",
              "    </tr>\n",
              "    <tr>\n",
              "      <th>3</th>\n",
              "      <td>['action', 'magic', 'police', 'supernatural', ...</td>\n",
              "    </tr>\n",
              "    <tr>\n",
              "      <th>4</th>\n",
              "      <td>['adventure', 'fantasy', 'shounen', 'supernatu...</td>\n",
              "    </tr>\n",
              "    <tr>\n",
              "      <th>...</th>\n",
              "      <td>...</td>\n",
              "    </tr>\n",
              "    <tr>\n",
              "      <th>14560</th>\n",
              "      <td>['slice of life', 'psychological', 'drama', 's...</td>\n",
              "    </tr>\n",
              "    <tr>\n",
              "      <th>14561</th>\n",
              "      <td>['comedy', 'demons', 'supernatural', 'fantasy'...</td>\n",
              "    </tr>\n",
              "    <tr>\n",
              "      <th>14562</th>\n",
              "      <td>['adventure', 'slice of life']</td>\n",
              "    </tr>\n",
              "    <tr>\n",
              "      <th>14563</th>\n",
              "      <td>['action', 'sci-fi', 'shounen', 'space']</td>\n",
              "    </tr>\n",
              "    <tr>\n",
              "      <th>14564</th>\n",
              "      <td>['fantasy', 'shounen']</td>\n",
              "    </tr>\n",
              "  </tbody>\n",
              "</table>\n",
              "<p>14565 rows × 1 columns</p>\n",
              "</div>"
            ],
            "text/plain": [
              "                                                  genres\n",
              "0      ['action', 'adventure', 'comedy', 'drama', 'sc...\n",
              "1      ['action', 'drama', 'mystery', 'sci-fi', 'space']\n",
              "2      ['action', 'sci-fi', 'adventure', 'comedy', 'd...\n",
              "3      ['action', 'magic', 'police', 'supernatural', ...\n",
              "4      ['adventure', 'fantasy', 'shounen', 'supernatu...\n",
              "...                                                  ...\n",
              "14560  ['slice of life', 'psychological', 'drama', 's...\n",
              "14561  ['comedy', 'demons', 'supernatural', 'fantasy'...\n",
              "14562                     ['adventure', 'slice of life']\n",
              "14563           ['action', 'sci-fi', 'shounen', 'space']\n",
              "14564                             ['fantasy', 'shounen']\n",
              "\n",
              "[14565 rows x 1 columns]"
            ]
          },
          "metadata": {
            "tags": []
          },
          "execution_count": 198
        }
      ]
    },
    {
      "cell_type": "code",
      "metadata": {
        "id": "dxHZKFLNT9at",
        "colab": {
          "base_uri": "https://localhost:8080/"
        },
        "outputId": "a5b88c3d-b1a2-4f0c-e0d4-ae7ace74f573"
      },
      "source": [
        "ast.literal_eval(data['genres'].iloc[0])"
      ],
      "execution_count": 199,
      "outputs": [
        {
          "output_type": "execute_result",
          "data": {
            "text/plain": [
              "['action', 'adventure', 'comedy', 'drama', 'sci-fi', 'space']"
            ]
          },
          "metadata": {
            "tags": []
          },
          "execution_count": 199
        }
      ]
    },
    {
      "cell_type": "code",
      "metadata": {
        "id": "mAHrDhKSVQpI",
        "colab": {
          "base_uri": "https://localhost:8080/"
        },
        "outputId": "ebf54ded-dd4e-43fc-b5c7-d15ee682e37c"
      },
      "source": [
        "data['genres'] = data['genres'].apply(lambda x: ast.literal_eval(x))\r\n",
        "data['genres'].head()"
      ],
      "execution_count": 200,
      "outputs": [
        {
          "output_type": "execute_result",
          "data": {
            "text/plain": [
              "0    [action, adventure, comedy, drama, sci-fi, space]\n",
              "1              [action, drama, mystery, sci-fi, space]\n",
              "2    [action, sci-fi, adventure, comedy, drama, sho...\n",
              "3    [action, magic, police, supernatural, drama, m...\n",
              "4          [adventure, fantasy, shounen, supernatural]\n",
              "Name: genres, dtype: object"
            ]
          },
          "metadata": {
            "tags": []
          },
          "execution_count": 200
        }
      ]
    },
    {
      "cell_type": "code",
      "metadata": {
        "id": "ABwU9Np0OVWb"
      },
      "source": [
        "\r\n",
        "multilabel_binarizer = MultiLabelBinarizer()\r\n",
        "multilabel_binarizer.fit(data['genres'])\r\n",
        "\r\n",
        "# transform target variable\r\n",
        "y = multilabel_binarizer.transform(data.genres)"
      ],
      "execution_count": 201,
      "outputs": []
    },
    {
      "cell_type": "code",
      "metadata": {
        "id": "6EMKch7HR3dI",
        "colab": {
          "base_uri": "https://localhost:8080/"
        },
        "outputId": "4f5a56fc-2707-417a-e4a1-e3115feac008"
      },
      "source": [
        "multilabel_binarizer.classes_"
      ],
      "execution_count": 202,
      "outputs": [
        {
          "output_type": "execute_result",
          "data": {
            "text/plain": [
              "array(['action', 'adventure', 'cars', 'comedy', 'dementia', 'demons',\n",
              "       'drama', 'ecchi', 'fantasy', 'game', 'harem', 'hentai',\n",
              "       'historical', 'horror', 'josei', 'kids', 'magic', 'martial arts',\n",
              "       'mecha', 'military', 'music', 'mystery', 'parody', 'police',\n",
              "       'psychological', 'romance', 'samurai', 'school', 'sci-fi',\n",
              "       'seinen', 'shoujo', 'shoujo ai', 'shounen', 'shounen ai',\n",
              "       'slice of life', 'space', 'sports', 'super power', 'supernatural',\n",
              "       'thriller', 'vampire', 'yaoi', 'yuri'], dtype=object)"
            ]
          },
          "metadata": {
            "tags": []
          },
          "execution_count": 202
        }
      ]
    },
    {
      "cell_type": "code",
      "metadata": {
        "id": "YAjHopdNQY4p",
        "colab": {
          "base_uri": "https://localhost:8080/"
        },
        "outputId": "c452e8d4-0df7-49f0-94cb-2c1854904588"
      },
      "source": [
        "y"
      ],
      "execution_count": 203,
      "outputs": [
        {
          "output_type": "execute_result",
          "data": {
            "text/plain": [
              "array([[1, 1, 0, ..., 0, 0, 0],\n",
              "       [1, 0, 0, ..., 0, 0, 0],\n",
              "       [1, 1, 0, ..., 0, 0, 0],\n",
              "       ...,\n",
              "       [0, 1, 0, ..., 0, 0, 0],\n",
              "       [1, 0, 0, ..., 0, 0, 0],\n",
              "       [0, 0, 0, ..., 0, 0, 0]])"
            ]
          },
          "metadata": {
            "tags": []
          },
          "execution_count": 203
        }
      ]
    },
    {
      "cell_type": "code",
      "metadata": {
        "id": "Dbd7R2Q_e0Pk",
        "colab": {
          "base_uri": "https://localhost:8080/",
          "height": 419
        },
        "outputId": "7410bd99-a125-402c-eebd-d570b7a7cfb3"
      },
      "source": [
        "temp"
      ],
      "execution_count": 204,
      "outputs": [
        {
          "output_type": "execute_result",
          "data": {
            "text/html": [
              "<div>\n",
              "<style scoped>\n",
              "    .dataframe tbody tr th:only-of-type {\n",
              "        vertical-align: middle;\n",
              "    }\n",
              "\n",
              "    .dataframe tbody tr th {\n",
              "        vertical-align: top;\n",
              "    }\n",
              "\n",
              "    .dataframe thead th {\n",
              "        text-align: right;\n",
              "    }\n",
              "</style>\n",
              "<table border=\"1\" class=\"dataframe\">\n",
              "  <thead>\n",
              "    <tr style=\"text-align: right;\">\n",
              "      <th></th>\n",
              "      <th>genres</th>\n",
              "    </tr>\n",
              "  </thead>\n",
              "  <tbody>\n",
              "    <tr>\n",
              "      <th>0</th>\n",
              "      <td>['action', 'adventure', 'comedy', 'drama', 'sc...</td>\n",
              "    </tr>\n",
              "    <tr>\n",
              "      <th>1</th>\n",
              "      <td>['action', 'drama', 'mystery', 'sci-fi', 'space']</td>\n",
              "    </tr>\n",
              "    <tr>\n",
              "      <th>2</th>\n",
              "      <td>['action', 'sci-fi', 'adventure', 'comedy', 'd...</td>\n",
              "    </tr>\n",
              "    <tr>\n",
              "      <th>3</th>\n",
              "      <td>['action', 'magic', 'police', 'supernatural', ...</td>\n",
              "    </tr>\n",
              "    <tr>\n",
              "      <th>4</th>\n",
              "      <td>['adventure', 'fantasy', 'shounen', 'supernatu...</td>\n",
              "    </tr>\n",
              "    <tr>\n",
              "      <th>...</th>\n",
              "      <td>...</td>\n",
              "    </tr>\n",
              "    <tr>\n",
              "      <th>14560</th>\n",
              "      <td>['slice of life', 'psychological', 'drama', 's...</td>\n",
              "    </tr>\n",
              "    <tr>\n",
              "      <th>14561</th>\n",
              "      <td>['comedy', 'demons', 'supernatural', 'fantasy'...</td>\n",
              "    </tr>\n",
              "    <tr>\n",
              "      <th>14562</th>\n",
              "      <td>['adventure', 'slice of life']</td>\n",
              "    </tr>\n",
              "    <tr>\n",
              "      <th>14563</th>\n",
              "      <td>['action', 'sci-fi', 'shounen', 'space']</td>\n",
              "    </tr>\n",
              "    <tr>\n",
              "      <th>14564</th>\n",
              "      <td>['fantasy', 'shounen']</td>\n",
              "    </tr>\n",
              "  </tbody>\n",
              "</table>\n",
              "<p>14565 rows × 1 columns</p>\n",
              "</div>"
            ],
            "text/plain": [
              "                                                  genres\n",
              "0      ['action', 'adventure', 'comedy', 'drama', 'sc...\n",
              "1      ['action', 'drama', 'mystery', 'sci-fi', 'space']\n",
              "2      ['action', 'sci-fi', 'adventure', 'comedy', 'd...\n",
              "3      ['action', 'magic', 'police', 'supernatural', ...\n",
              "4      ['adventure', 'fantasy', 'shounen', 'supernatu...\n",
              "...                                                  ...\n",
              "14560  ['slice of life', 'psychological', 'drama', 's...\n",
              "14561  ['comedy', 'demons', 'supernatural', 'fantasy'...\n",
              "14562                     ['adventure', 'slice of life']\n",
              "14563           ['action', 'sci-fi', 'shounen', 'space']\n",
              "14564                             ['fantasy', 'shounen']\n",
              "\n",
              "[14565 rows x 1 columns]"
            ]
          },
          "metadata": {
            "tags": []
          },
          "execution_count": 204
        }
      ]
    },
    {
      "cell_type": "code",
      "metadata": {
        "id": "5czswXLucIGE"
      },
      "source": [
        "for i in range(data.shape[0]):\r\n",
        "  temp.genres[i] = temp.genres[i].translate(str.maketrans(\"\",\"\",string.punctuation))\r\n",
        "unique = set(temp.genres.str.split(' ').sum())"
      ],
      "execution_count": 205,
      "outputs": []
    },
    {
      "cell_type": "code",
      "metadata": {
        "id": "ShG81YqXcb5N"
      },
      "source": [
        "test = np.zeros(shape=(14565,))"
      ],
      "execution_count": 206,
      "outputs": []
    },
    {
      "cell_type": "code",
      "metadata": {
        "id": "2UheTnZZeTRC",
        "colab": {
          "base_uri": "https://localhost:8080/"
        },
        "outputId": "14025a22-89fb-48c3-8e9f-c4c2534ce1cd"
      },
      "source": [
        "target = pd.DataFrame(test)\r\n",
        "for x in unique:\r\n",
        "  if x != '':\r\n",
        "    target[x] = 0\r\n",
        "target.shape"
      ],
      "execution_count": 207,
      "outputs": [
        {
          "output_type": "execute_result",
          "data": {
            "text/plain": [
              "(14565, 47)"
            ]
          },
          "metadata": {
            "tags": []
          },
          "execution_count": 207
        }
      ]
    },
    {
      "cell_type": "code",
      "metadata": {
        "id": "3nzkGVSkfPCp",
        "colab": {
          "base_uri": "https://localhost:8080/"
        },
        "outputId": "3903409b-bb4e-4ad5-b681-e43f48f40c99"
      },
      "source": [
        "target.drop(target.columns[0], axis=1, inplace=True)\r\n",
        "target.drop('life', axis=1, inplace=True)\r\n",
        "target.drop('of', axis=1, inplace=True)\r\n",
        "target.shape"
      ],
      "execution_count": 208,
      "outputs": [
        {
          "output_type": "execute_result",
          "data": {
            "text/plain": [
              "(14565, 44)"
            ]
          },
          "metadata": {
            "tags": []
          },
          "execution_count": 208
        }
      ]
    },
    {
      "cell_type": "code",
      "metadata": {
        "id": "_lLNiqZcfVjW",
        "colab": {
          "base_uri": "https://localhost:8080/",
          "height": 439
        },
        "outputId": "978d86f7-e26c-4b99-ad1d-b825304fb1d7"
      },
      "source": [
        "i = 0\r\n",
        "for x in temp.genres:\r\n",
        "  unique = x.split()\r\n",
        "  for z in unique:\r\n",
        "    if z == 'of' or z == 'life':\r\n",
        "      continue\r\n",
        "    target[z][i] = 1\r\n",
        "    \r\n",
        "  i += 1\r\n",
        "target"
      ],
      "execution_count": 209,
      "outputs": [
        {
          "output_type": "execute_result",
          "data": {
            "text/html": [
              "<div>\n",
              "<style scoped>\n",
              "    .dataframe tbody tr th:only-of-type {\n",
              "        vertical-align: middle;\n",
              "    }\n",
              "\n",
              "    .dataframe tbody tr th {\n",
              "        vertical-align: top;\n",
              "    }\n",
              "\n",
              "    .dataframe thead th {\n",
              "        text-align: right;\n",
              "    }\n",
              "</style>\n",
              "<table border=\"1\" class=\"dataframe\">\n",
              "  <thead>\n",
              "    <tr style=\"text-align: right;\">\n",
              "      <th></th>\n",
              "      <th>ai</th>\n",
              "      <th>horror</th>\n",
              "      <th>romance</th>\n",
              "      <th>comedy</th>\n",
              "      <th>fantasy</th>\n",
              "      <th>super</th>\n",
              "      <th>harem</th>\n",
              "      <th>action</th>\n",
              "      <th>scifi</th>\n",
              "      <th>mecha</th>\n",
              "      <th>mystery</th>\n",
              "      <th>music</th>\n",
              "      <th>drama</th>\n",
              "      <th>samurai</th>\n",
              "      <th>hentai</th>\n",
              "      <th>vampire</th>\n",
              "      <th>parody</th>\n",
              "      <th>shounen</th>\n",
              "      <th>psychological</th>\n",
              "      <th>police</th>\n",
              "      <th>seinen</th>\n",
              "      <th>school</th>\n",
              "      <th>historical</th>\n",
              "      <th>arts</th>\n",
              "      <th>sports</th>\n",
              "      <th>yaoi</th>\n",
              "      <th>dementia</th>\n",
              "      <th>adventure</th>\n",
              "      <th>space</th>\n",
              "      <th>slice</th>\n",
              "      <th>martial</th>\n",
              "      <th>game</th>\n",
              "      <th>supernatural</th>\n",
              "      <th>demons</th>\n",
              "      <th>shoujo</th>\n",
              "      <th>thriller</th>\n",
              "      <th>yuri</th>\n",
              "      <th>cars</th>\n",
              "      <th>magic</th>\n",
              "      <th>military</th>\n",
              "      <th>ecchi</th>\n",
              "      <th>kids</th>\n",
              "      <th>power</th>\n",
              "      <th>josei</th>\n",
              "    </tr>\n",
              "  </thead>\n",
              "  <tbody>\n",
              "    <tr>\n",
              "      <th>0</th>\n",
              "      <td>0</td>\n",
              "      <td>0</td>\n",
              "      <td>0</td>\n",
              "      <td>1</td>\n",
              "      <td>0</td>\n",
              "      <td>0</td>\n",
              "      <td>0</td>\n",
              "      <td>1</td>\n",
              "      <td>1</td>\n",
              "      <td>0</td>\n",
              "      <td>0</td>\n",
              "      <td>0</td>\n",
              "      <td>1</td>\n",
              "      <td>0</td>\n",
              "      <td>0</td>\n",
              "      <td>0</td>\n",
              "      <td>0</td>\n",
              "      <td>0</td>\n",
              "      <td>0</td>\n",
              "      <td>0</td>\n",
              "      <td>0</td>\n",
              "      <td>0</td>\n",
              "      <td>0</td>\n",
              "      <td>0</td>\n",
              "      <td>0</td>\n",
              "      <td>0</td>\n",
              "      <td>0</td>\n",
              "      <td>1</td>\n",
              "      <td>1</td>\n",
              "      <td>0</td>\n",
              "      <td>0</td>\n",
              "      <td>0</td>\n",
              "      <td>0</td>\n",
              "      <td>0</td>\n",
              "      <td>0</td>\n",
              "      <td>0</td>\n",
              "      <td>0</td>\n",
              "      <td>0</td>\n",
              "      <td>0</td>\n",
              "      <td>0</td>\n",
              "      <td>0</td>\n",
              "      <td>0</td>\n",
              "      <td>0</td>\n",
              "      <td>0</td>\n",
              "    </tr>\n",
              "    <tr>\n",
              "      <th>1</th>\n",
              "      <td>0</td>\n",
              "      <td>0</td>\n",
              "      <td>0</td>\n",
              "      <td>0</td>\n",
              "      <td>0</td>\n",
              "      <td>0</td>\n",
              "      <td>0</td>\n",
              "      <td>1</td>\n",
              "      <td>1</td>\n",
              "      <td>0</td>\n",
              "      <td>1</td>\n",
              "      <td>0</td>\n",
              "      <td>1</td>\n",
              "      <td>0</td>\n",
              "      <td>0</td>\n",
              "      <td>0</td>\n",
              "      <td>0</td>\n",
              "      <td>0</td>\n",
              "      <td>0</td>\n",
              "      <td>0</td>\n",
              "      <td>0</td>\n",
              "      <td>0</td>\n",
              "      <td>0</td>\n",
              "      <td>0</td>\n",
              "      <td>0</td>\n",
              "      <td>0</td>\n",
              "      <td>0</td>\n",
              "      <td>0</td>\n",
              "      <td>1</td>\n",
              "      <td>0</td>\n",
              "      <td>0</td>\n",
              "      <td>0</td>\n",
              "      <td>0</td>\n",
              "      <td>0</td>\n",
              "      <td>0</td>\n",
              "      <td>0</td>\n",
              "      <td>0</td>\n",
              "      <td>0</td>\n",
              "      <td>0</td>\n",
              "      <td>0</td>\n",
              "      <td>0</td>\n",
              "      <td>0</td>\n",
              "      <td>0</td>\n",
              "      <td>0</td>\n",
              "    </tr>\n",
              "    <tr>\n",
              "      <th>2</th>\n",
              "      <td>0</td>\n",
              "      <td>0</td>\n",
              "      <td>0</td>\n",
              "      <td>1</td>\n",
              "      <td>0</td>\n",
              "      <td>0</td>\n",
              "      <td>0</td>\n",
              "      <td>1</td>\n",
              "      <td>1</td>\n",
              "      <td>0</td>\n",
              "      <td>0</td>\n",
              "      <td>0</td>\n",
              "      <td>1</td>\n",
              "      <td>0</td>\n",
              "      <td>0</td>\n",
              "      <td>0</td>\n",
              "      <td>0</td>\n",
              "      <td>1</td>\n",
              "      <td>0</td>\n",
              "      <td>0</td>\n",
              "      <td>0</td>\n",
              "      <td>0</td>\n",
              "      <td>0</td>\n",
              "      <td>0</td>\n",
              "      <td>0</td>\n",
              "      <td>0</td>\n",
              "      <td>0</td>\n",
              "      <td>1</td>\n",
              "      <td>0</td>\n",
              "      <td>0</td>\n",
              "      <td>0</td>\n",
              "      <td>0</td>\n",
              "      <td>0</td>\n",
              "      <td>0</td>\n",
              "      <td>0</td>\n",
              "      <td>0</td>\n",
              "      <td>0</td>\n",
              "      <td>0</td>\n",
              "      <td>0</td>\n",
              "      <td>0</td>\n",
              "      <td>0</td>\n",
              "      <td>0</td>\n",
              "      <td>0</td>\n",
              "      <td>0</td>\n",
              "    </tr>\n",
              "    <tr>\n",
              "      <th>3</th>\n",
              "      <td>0</td>\n",
              "      <td>0</td>\n",
              "      <td>0</td>\n",
              "      <td>0</td>\n",
              "      <td>0</td>\n",
              "      <td>0</td>\n",
              "      <td>0</td>\n",
              "      <td>1</td>\n",
              "      <td>0</td>\n",
              "      <td>0</td>\n",
              "      <td>1</td>\n",
              "      <td>0</td>\n",
              "      <td>1</td>\n",
              "      <td>0</td>\n",
              "      <td>0</td>\n",
              "      <td>0</td>\n",
              "      <td>0</td>\n",
              "      <td>0</td>\n",
              "      <td>0</td>\n",
              "      <td>1</td>\n",
              "      <td>0</td>\n",
              "      <td>0</td>\n",
              "      <td>0</td>\n",
              "      <td>0</td>\n",
              "      <td>0</td>\n",
              "      <td>0</td>\n",
              "      <td>0</td>\n",
              "      <td>0</td>\n",
              "      <td>0</td>\n",
              "      <td>0</td>\n",
              "      <td>0</td>\n",
              "      <td>0</td>\n",
              "      <td>1</td>\n",
              "      <td>0</td>\n",
              "      <td>0</td>\n",
              "      <td>0</td>\n",
              "      <td>0</td>\n",
              "      <td>0</td>\n",
              "      <td>1</td>\n",
              "      <td>0</td>\n",
              "      <td>0</td>\n",
              "      <td>0</td>\n",
              "      <td>0</td>\n",
              "      <td>0</td>\n",
              "    </tr>\n",
              "    <tr>\n",
              "      <th>4</th>\n",
              "      <td>0</td>\n",
              "      <td>0</td>\n",
              "      <td>0</td>\n",
              "      <td>0</td>\n",
              "      <td>1</td>\n",
              "      <td>0</td>\n",
              "      <td>0</td>\n",
              "      <td>0</td>\n",
              "      <td>0</td>\n",
              "      <td>0</td>\n",
              "      <td>0</td>\n",
              "      <td>0</td>\n",
              "      <td>0</td>\n",
              "      <td>0</td>\n",
              "      <td>0</td>\n",
              "      <td>0</td>\n",
              "      <td>0</td>\n",
              "      <td>1</td>\n",
              "      <td>0</td>\n",
              "      <td>0</td>\n",
              "      <td>0</td>\n",
              "      <td>0</td>\n",
              "      <td>0</td>\n",
              "      <td>0</td>\n",
              "      <td>0</td>\n",
              "      <td>0</td>\n",
              "      <td>0</td>\n",
              "      <td>1</td>\n",
              "      <td>0</td>\n",
              "      <td>0</td>\n",
              "      <td>0</td>\n",
              "      <td>0</td>\n",
              "      <td>1</td>\n",
              "      <td>0</td>\n",
              "      <td>0</td>\n",
              "      <td>0</td>\n",
              "      <td>0</td>\n",
              "      <td>0</td>\n",
              "      <td>0</td>\n",
              "      <td>0</td>\n",
              "      <td>0</td>\n",
              "      <td>0</td>\n",
              "      <td>0</td>\n",
              "      <td>0</td>\n",
              "    </tr>\n",
              "    <tr>\n",
              "      <th>...</th>\n",
              "      <td>...</td>\n",
              "      <td>...</td>\n",
              "      <td>...</td>\n",
              "      <td>...</td>\n",
              "      <td>...</td>\n",
              "      <td>...</td>\n",
              "      <td>...</td>\n",
              "      <td>...</td>\n",
              "      <td>...</td>\n",
              "      <td>...</td>\n",
              "      <td>...</td>\n",
              "      <td>...</td>\n",
              "      <td>...</td>\n",
              "      <td>...</td>\n",
              "      <td>...</td>\n",
              "      <td>...</td>\n",
              "      <td>...</td>\n",
              "      <td>...</td>\n",
              "      <td>...</td>\n",
              "      <td>...</td>\n",
              "      <td>...</td>\n",
              "      <td>...</td>\n",
              "      <td>...</td>\n",
              "      <td>...</td>\n",
              "      <td>...</td>\n",
              "      <td>...</td>\n",
              "      <td>...</td>\n",
              "      <td>...</td>\n",
              "      <td>...</td>\n",
              "      <td>...</td>\n",
              "      <td>...</td>\n",
              "      <td>...</td>\n",
              "      <td>...</td>\n",
              "      <td>...</td>\n",
              "      <td>...</td>\n",
              "      <td>...</td>\n",
              "      <td>...</td>\n",
              "      <td>...</td>\n",
              "      <td>...</td>\n",
              "      <td>...</td>\n",
              "      <td>...</td>\n",
              "      <td>...</td>\n",
              "      <td>...</td>\n",
              "      <td>...</td>\n",
              "    </tr>\n",
              "    <tr>\n",
              "      <th>14560</th>\n",
              "      <td>0</td>\n",
              "      <td>0</td>\n",
              "      <td>0</td>\n",
              "      <td>0</td>\n",
              "      <td>0</td>\n",
              "      <td>0</td>\n",
              "      <td>0</td>\n",
              "      <td>0</td>\n",
              "      <td>0</td>\n",
              "      <td>0</td>\n",
              "      <td>0</td>\n",
              "      <td>0</td>\n",
              "      <td>1</td>\n",
              "      <td>0</td>\n",
              "      <td>0</td>\n",
              "      <td>0</td>\n",
              "      <td>0</td>\n",
              "      <td>1</td>\n",
              "      <td>1</td>\n",
              "      <td>0</td>\n",
              "      <td>0</td>\n",
              "      <td>0</td>\n",
              "      <td>0</td>\n",
              "      <td>0</td>\n",
              "      <td>0</td>\n",
              "      <td>0</td>\n",
              "      <td>0</td>\n",
              "      <td>0</td>\n",
              "      <td>0</td>\n",
              "      <td>1</td>\n",
              "      <td>0</td>\n",
              "      <td>0</td>\n",
              "      <td>0</td>\n",
              "      <td>0</td>\n",
              "      <td>0</td>\n",
              "      <td>0</td>\n",
              "      <td>0</td>\n",
              "      <td>0</td>\n",
              "      <td>0</td>\n",
              "      <td>0</td>\n",
              "      <td>0</td>\n",
              "      <td>0</td>\n",
              "      <td>0</td>\n",
              "      <td>0</td>\n",
              "    </tr>\n",
              "    <tr>\n",
              "      <th>14561</th>\n",
              "      <td>0</td>\n",
              "      <td>0</td>\n",
              "      <td>0</td>\n",
              "      <td>1</td>\n",
              "      <td>1</td>\n",
              "      <td>0</td>\n",
              "      <td>0</td>\n",
              "      <td>0</td>\n",
              "      <td>0</td>\n",
              "      <td>0</td>\n",
              "      <td>0</td>\n",
              "      <td>0</td>\n",
              "      <td>0</td>\n",
              "      <td>0</td>\n",
              "      <td>0</td>\n",
              "      <td>0</td>\n",
              "      <td>0</td>\n",
              "      <td>1</td>\n",
              "      <td>0</td>\n",
              "      <td>0</td>\n",
              "      <td>0</td>\n",
              "      <td>0</td>\n",
              "      <td>0</td>\n",
              "      <td>0</td>\n",
              "      <td>0</td>\n",
              "      <td>0</td>\n",
              "      <td>0</td>\n",
              "      <td>0</td>\n",
              "      <td>0</td>\n",
              "      <td>0</td>\n",
              "      <td>0</td>\n",
              "      <td>0</td>\n",
              "      <td>1</td>\n",
              "      <td>1</td>\n",
              "      <td>0</td>\n",
              "      <td>0</td>\n",
              "      <td>0</td>\n",
              "      <td>0</td>\n",
              "      <td>0</td>\n",
              "      <td>0</td>\n",
              "      <td>0</td>\n",
              "      <td>0</td>\n",
              "      <td>0</td>\n",
              "      <td>0</td>\n",
              "    </tr>\n",
              "    <tr>\n",
              "      <th>14562</th>\n",
              "      <td>0</td>\n",
              "      <td>0</td>\n",
              "      <td>0</td>\n",
              "      <td>0</td>\n",
              "      <td>0</td>\n",
              "      <td>0</td>\n",
              "      <td>0</td>\n",
              "      <td>0</td>\n",
              "      <td>0</td>\n",
              "      <td>0</td>\n",
              "      <td>0</td>\n",
              "      <td>0</td>\n",
              "      <td>0</td>\n",
              "      <td>0</td>\n",
              "      <td>0</td>\n",
              "      <td>0</td>\n",
              "      <td>0</td>\n",
              "      <td>0</td>\n",
              "      <td>0</td>\n",
              "      <td>0</td>\n",
              "      <td>0</td>\n",
              "      <td>0</td>\n",
              "      <td>0</td>\n",
              "      <td>0</td>\n",
              "      <td>0</td>\n",
              "      <td>0</td>\n",
              "      <td>0</td>\n",
              "      <td>1</td>\n",
              "      <td>0</td>\n",
              "      <td>1</td>\n",
              "      <td>0</td>\n",
              "      <td>0</td>\n",
              "      <td>0</td>\n",
              "      <td>0</td>\n",
              "      <td>0</td>\n",
              "      <td>0</td>\n",
              "      <td>0</td>\n",
              "      <td>0</td>\n",
              "      <td>0</td>\n",
              "      <td>0</td>\n",
              "      <td>0</td>\n",
              "      <td>0</td>\n",
              "      <td>0</td>\n",
              "      <td>0</td>\n",
              "    </tr>\n",
              "    <tr>\n",
              "      <th>14563</th>\n",
              "      <td>0</td>\n",
              "      <td>0</td>\n",
              "      <td>0</td>\n",
              "      <td>0</td>\n",
              "      <td>0</td>\n",
              "      <td>0</td>\n",
              "      <td>0</td>\n",
              "      <td>1</td>\n",
              "      <td>1</td>\n",
              "      <td>0</td>\n",
              "      <td>0</td>\n",
              "      <td>0</td>\n",
              "      <td>0</td>\n",
              "      <td>0</td>\n",
              "      <td>0</td>\n",
              "      <td>0</td>\n",
              "      <td>0</td>\n",
              "      <td>1</td>\n",
              "      <td>0</td>\n",
              "      <td>0</td>\n",
              "      <td>0</td>\n",
              "      <td>0</td>\n",
              "      <td>0</td>\n",
              "      <td>0</td>\n",
              "      <td>0</td>\n",
              "      <td>0</td>\n",
              "      <td>0</td>\n",
              "      <td>0</td>\n",
              "      <td>1</td>\n",
              "      <td>0</td>\n",
              "      <td>0</td>\n",
              "      <td>0</td>\n",
              "      <td>0</td>\n",
              "      <td>0</td>\n",
              "      <td>0</td>\n",
              "      <td>0</td>\n",
              "      <td>0</td>\n",
              "      <td>0</td>\n",
              "      <td>0</td>\n",
              "      <td>0</td>\n",
              "      <td>0</td>\n",
              "      <td>0</td>\n",
              "      <td>0</td>\n",
              "      <td>0</td>\n",
              "    </tr>\n",
              "    <tr>\n",
              "      <th>14564</th>\n",
              "      <td>0</td>\n",
              "      <td>0</td>\n",
              "      <td>0</td>\n",
              "      <td>0</td>\n",
              "      <td>1</td>\n",
              "      <td>0</td>\n",
              "      <td>0</td>\n",
              "      <td>0</td>\n",
              "      <td>0</td>\n",
              "      <td>0</td>\n",
              "      <td>0</td>\n",
              "      <td>0</td>\n",
              "      <td>0</td>\n",
              "      <td>0</td>\n",
              "      <td>0</td>\n",
              "      <td>0</td>\n",
              "      <td>0</td>\n",
              "      <td>1</td>\n",
              "      <td>0</td>\n",
              "      <td>0</td>\n",
              "      <td>0</td>\n",
              "      <td>0</td>\n",
              "      <td>0</td>\n",
              "      <td>0</td>\n",
              "      <td>0</td>\n",
              "      <td>0</td>\n",
              "      <td>0</td>\n",
              "      <td>0</td>\n",
              "      <td>0</td>\n",
              "      <td>0</td>\n",
              "      <td>0</td>\n",
              "      <td>0</td>\n",
              "      <td>0</td>\n",
              "      <td>0</td>\n",
              "      <td>0</td>\n",
              "      <td>0</td>\n",
              "      <td>0</td>\n",
              "      <td>0</td>\n",
              "      <td>0</td>\n",
              "      <td>0</td>\n",
              "      <td>0</td>\n",
              "      <td>0</td>\n",
              "      <td>0</td>\n",
              "      <td>0</td>\n",
              "    </tr>\n",
              "  </tbody>\n",
              "</table>\n",
              "<p>14565 rows × 44 columns</p>\n",
              "</div>"
            ],
            "text/plain": [
              "       ai  horror  romance  comedy  ...  ecchi  kids  power  josei\n",
              "0       0       0        0       1  ...      0     0      0      0\n",
              "1       0       0        0       0  ...      0     0      0      0\n",
              "2       0       0        0       1  ...      0     0      0      0\n",
              "3       0       0        0       0  ...      0     0      0      0\n",
              "4       0       0        0       0  ...      0     0      0      0\n",
              "...    ..     ...      ...     ...  ...    ...   ...    ...    ...\n",
              "14560   0       0        0       0  ...      0     0      0      0\n",
              "14561   0       0        0       1  ...      0     0      0      0\n",
              "14562   0       0        0       0  ...      0     0      0      0\n",
              "14563   0       0        0       0  ...      0     0      0      0\n",
              "14564   0       0        0       0  ...      0     0      0      0\n",
              "\n",
              "[14565 rows x 44 columns]"
            ]
          },
          "metadata": {
            "tags": []
          },
          "execution_count": 209
        }
      ]
    },
    {
      "cell_type": "code",
      "metadata": {
        "id": "Zvz1YuvCWehi",
        "colab": {
          "base_uri": "https://localhost:8080/",
          "height": 204
        },
        "outputId": "bfd1f08b-4497-4c54-c063-20a119106279"
      },
      "source": [
        "data['list'] = target[target.columns[0:]].values.tolist()\r\n",
        "new_df = data[['join_synopsis', 'list']].copy()\r\n",
        "new_df.head()"
      ],
      "execution_count": 210,
      "outputs": [
        {
          "output_type": "execute_result",
          "data": {
            "text/html": [
              "<div>\n",
              "<style scoped>\n",
              "    .dataframe tbody tr th:only-of-type {\n",
              "        vertical-align: middle;\n",
              "    }\n",
              "\n",
              "    .dataframe tbody tr th {\n",
              "        vertical-align: top;\n",
              "    }\n",
              "\n",
              "    .dataframe thead th {\n",
              "        text-align: right;\n",
              "    }\n",
              "</style>\n",
              "<table border=\"1\" class=\"dataframe\">\n",
              "  <thead>\n",
              "    <tr style=\"text-align: right;\">\n",
              "      <th></th>\n",
              "      <th>join_synopsis</th>\n",
              "      <th>list</th>\n",
              "    </tr>\n",
              "  </thead>\n",
              "  <tbody>\n",
              "    <tr>\n",
              "      <th>0</th>\n",
              "      <td>year human colon sever planet moon solar syste...</td>\n",
              "      <td>[0, 0, 0, 1, 0, 0, 0, 1, 1, 0, 0, 0, 1, 0, 0, ...</td>\n",
              "    </tr>\n",
              "    <tr>\n",
              "      <th>1</th>\n",
              "      <td>anoth day anoth bounti life often unlucki crew...</td>\n",
              "      <td>[0, 0, 0, 0, 0, 0, 0, 1, 1, 0, 1, 0, 1, 0, 0, ...</td>\n",
              "    </tr>\n",
              "    <tr>\n",
              "      <th>2</th>\n",
              "      <td>vash stamped man bounti head reason he mercile...</td>\n",
              "      <td>[0, 0, 0, 1, 0, 0, 0, 1, 1, 0, 0, 0, 1, 0, 0, ...</td>\n",
              "    </tr>\n",
              "    <tr>\n",
              "      <th>3</th>\n",
              "      <td>witch individu special power like esp telekine...</td>\n",
              "      <td>[0, 0, 0, 0, 0, 0, 0, 1, 0, 0, 1, 0, 1, 0, 0, ...</td>\n",
              "    </tr>\n",
              "    <tr>\n",
              "      <th>4</th>\n",
              "      <td>dark centuri peopl suffer rule devil vandel ab...</td>\n",
              "      <td>[0, 0, 0, 0, 1, 0, 0, 0, 0, 0, 0, 0, 0, 0, 0, ...</td>\n",
              "    </tr>\n",
              "  </tbody>\n",
              "</table>\n",
              "</div>"
            ],
            "text/plain": [
              "                                       join_synopsis                                               list\n",
              "0  year human colon sever planet moon solar syste...  [0, 0, 0, 1, 0, 0, 0, 1, 1, 0, 0, 0, 1, 0, 0, ...\n",
              "1  anoth day anoth bounti life often unlucki crew...  [0, 0, 0, 0, 0, 0, 0, 1, 1, 0, 1, 0, 1, 0, 0, ...\n",
              "2  vash stamped man bounti head reason he mercile...  [0, 0, 0, 1, 0, 0, 0, 1, 1, 0, 0, 0, 1, 0, 0, ...\n",
              "3  witch individu special power like esp telekine...  [0, 0, 0, 0, 0, 0, 0, 1, 0, 0, 1, 0, 1, 0, 0, ...\n",
              "4  dark centuri peopl suffer rule devil vandel ab...  [0, 0, 0, 0, 1, 0, 0, 0, 0, 0, 0, 0, 0, 0, 0, ..."
            ]
          },
          "metadata": {
            "tags": []
          },
          "execution_count": 210
        }
      ]
    },
    {
      "cell_type": "markdown",
      "metadata": {
        "id": "WN8DQbHLFviP"
      },
      "source": [
        "# Normalize"
      ]
    },
    {
      "cell_type": "code",
      "metadata": {
        "id": "_73gdKbaRExl"
      },
      "source": [
        "from sklearn.feature_extraction.text import TfidfVectorizer\r\n",
        "from sklearn.model_selection import train_test_split"
      ],
      "execution_count": 211,
      "outputs": []
    },
    {
      "cell_type": "code",
      "metadata": {
        "id": "F872rOEfQgx9"
      },
      "source": [
        "# split dataset into training and validation set\r\n",
        "xtrain, xval, ytrain, yval = train_test_split(data[\"join_synopsis\"], y, test_size=0.2, random_state=9)"
      ],
      "execution_count": 212,
      "outputs": []
    },
    {
      "cell_type": "markdown",
      "metadata": {
        "id": "ybJdqgHneYQP"
      },
      "source": [
        "## TF-IDF"
      ]
    },
    {
      "cell_type": "code",
      "metadata": {
        "id": "xyhLzW8GQ0Ia"
      },
      "source": [
        "# create TF-IDF features\r\n",
        "\r\n",
        "tfidf_vectorizer = TfidfVectorizer(max_df=0.8, max_features=10000)\r\n",
        "\r\n",
        "xtrain_tfidf = tfidf_vectorizer.fit_transform(xtrain)\r\n",
        "xval_tfidf = tfidf_vectorizer.transform(xval)"
      ],
      "execution_count": 213,
      "outputs": []
    },
    {
      "cell_type": "markdown",
      "metadata": {
        "id": "q97lkRGKRPCP"
      },
      "source": [
        "# Build the model"
      ]
    },
    {
      "cell_type": "code",
      "metadata": {
        "id": "R3pIjyo2Q0Fm"
      },
      "source": [
        "from sklearn.linear_model import LogisticRegression\r\n",
        "\r\n",
        "# Binary Relevance\r\n",
        "from sklearn.multiclass import OneVsRestClassifier\r\n",
        "\r\n",
        "# Performance metric\r\n",
        "from sklearn.metrics import f1_score"
      ],
      "execution_count": 214,
      "outputs": []
    },
    {
      "cell_type": "markdown",
      "metadata": {
        "id": "q2EV3hS7bgb8"
      },
      "source": [
        "## Logistic linear"
      ]
    },
    {
      "cell_type": "code",
      "metadata": {
        "id": "YatPUQwSQ0C6"
      },
      "source": [
        "lr = LogisticRegression()\r\n",
        "clf = OneVsRestClassifier(lr)"
      ],
      "execution_count": 215,
      "outputs": []
    },
    {
      "cell_type": "code",
      "metadata": {
        "id": "_d2jrEjHQ0AJ",
        "colab": {
          "base_uri": "https://localhost:8080/"
        },
        "outputId": "76ce0089-b2ff-4756-acef-30182d2855cb"
      },
      "source": [
        "# fit model on train data\r\n",
        "clf.fit(xtrain_tfidf, ytrain)"
      ],
      "execution_count": 216,
      "outputs": [
        {
          "output_type": "execute_result",
          "data": {
            "text/plain": [
              "OneVsRestClassifier(estimator=LogisticRegression(C=1.0, class_weight=None,\n",
              "                                                 dual=False, fit_intercept=True,\n",
              "                                                 intercept_scaling=1,\n",
              "                                                 l1_ratio=None, max_iter=100,\n",
              "                                                 multi_class='auto',\n",
              "                                                 n_jobs=None, penalty='l2',\n",
              "                                                 random_state=None,\n",
              "                                                 solver='lbfgs', tol=0.0001,\n",
              "                                                 verbose=0, warm_start=False),\n",
              "                    n_jobs=None)"
            ]
          },
          "metadata": {
            "tags": []
          },
          "execution_count": 216
        }
      ]
    },
    {
      "cell_type": "code",
      "metadata": {
        "id": "N7qbbm9NQz6w"
      },
      "source": [
        "# make predictions for validation set\r\n",
        "y_pred = clf.predict(xval_tfidf)"
      ],
      "execution_count": 217,
      "outputs": []
    },
    {
      "cell_type": "code",
      "metadata": {
        "id": "3rmFwxRwRYud",
        "colab": {
          "base_uri": "https://localhost:8080/"
        },
        "outputId": "17a57026-0ab3-4089-fa1f-3cee2dea4cc9"
      },
      "source": [
        "y_pred[3]"
      ],
      "execution_count": 218,
      "outputs": [
        {
          "output_type": "execute_result",
          "data": {
            "text/plain": [
              "array([0, 0, 0, 1, 0, 0, 0, 0, 0, 0, 0, 0, 0, 0, 0, 0, 0, 0, 0, 0, 0, 0,\n",
              "       0, 0, 0, 0, 0, 0, 0, 0, 0, 0, 0, 0, 0, 0, 0, 0, 0, 0, 0, 0, 0])"
            ]
          },
          "metadata": {
            "tags": []
          },
          "execution_count": 218
        }
      ]
    },
    {
      "cell_type": "code",
      "metadata": {
        "id": "9I-b1rhMRYma",
        "colab": {
          "base_uri": "https://localhost:8080/"
        },
        "outputId": "07982ebd-ded6-428d-bd22-83ed86dd6905"
      },
      "source": [
        "multilabel_binarizer.inverse_transform(y_pred)[3]"
      ],
      "execution_count": 219,
      "outputs": [
        {
          "output_type": "execute_result",
          "data": {
            "text/plain": [
              "('comedy',)"
            ]
          },
          "metadata": {
            "tags": []
          },
          "execution_count": 219
        }
      ]
    },
    {
      "cell_type": "code",
      "metadata": {
        "id": "J-OkEWHNWE3y",
        "colab": {
          "base_uri": "https://localhost:8080/"
        },
        "outputId": "26628df5-bb8b-42cd-9b7f-e126c91618aa"
      },
      "source": [
        "# evaluate performance\r\n",
        "f1_score(yval, y_pred, average=\"micro\")"
      ],
      "execution_count": 220,
      "outputs": [
        {
          "output_type": "execute_result",
          "data": {
            "text/plain": [
              "0.33521870286576166"
            ]
          },
          "metadata": {
            "tags": []
          },
          "execution_count": 220
        }
      ]
    },
    {
      "cell_type": "code",
      "metadata": {
        "id": "CMGFQPtywVi-",
        "colab": {
          "base_uri": "https://localhost:8080/"
        },
        "outputId": "877b8ce3-6c47-40d2-b886-c039a07d9e16"
      },
      "source": [
        "multilabel_binarizer.classes_"
      ],
      "execution_count": 221,
      "outputs": [
        {
          "output_type": "execute_result",
          "data": {
            "text/plain": [
              "array(['action', 'adventure', 'cars', 'comedy', 'dementia', 'demons',\n",
              "       'drama', 'ecchi', 'fantasy', 'game', 'harem', 'hentai',\n",
              "       'historical', 'horror', 'josei', 'kids', 'magic', 'martial arts',\n",
              "       'mecha', 'military', 'music', 'mystery', 'parody', 'police',\n",
              "       'psychological', 'romance', 'samurai', 'school', 'sci-fi',\n",
              "       'seinen', 'shoujo', 'shoujo ai', 'shounen', 'shounen ai',\n",
              "       'slice of life', 'space', 'sports', 'super power', 'supernatural',\n",
              "       'thriller', 'vampire', 'yaoi', 'yuri'], dtype=object)"
            ]
          },
          "metadata": {
            "tags": []
          },
          "execution_count": 221
        }
      ]
    },
    {
      "cell_type": "code",
      "metadata": {
        "id": "B7SNl8f1qRcS",
        "colab": {
          "base_uri": "https://localhost:8080/"
        },
        "outputId": "d7a5b9cc-100a-4487-8e8a-01425b75653b"
      },
      "source": [
        "from sklearn import metrics\r\n",
        "print(metrics.classification_report(yval, y_pred))"
      ],
      "execution_count": 222,
      "outputs": [
        {
          "output_type": "stream",
          "text": [
            "              precision    recall  f1-score   support\n",
            "\n",
            "           0       0.66      0.33      0.44       635\n",
            "           1       0.78      0.25      0.38       475\n",
            "           2       1.00      0.07      0.13        29\n",
            "           3       0.73      0.48      0.58      1049\n",
            "           4       0.94      0.21      0.35        70\n",
            "           5       0.67      0.06      0.11        64\n",
            "           6       0.60      0.07      0.12       435\n",
            "           7       0.00      0.00      0.00       141\n",
            "           8       0.78      0.24      0.36       499\n",
            "           9       0.50      0.02      0.03        58\n",
            "          10       0.00      0.00      0.00        73\n",
            "          11       0.96      0.26      0.41       257\n",
            "          12       0.91      0.06      0.10       180\n",
            "          13       0.00      0.00      0.00        77\n",
            "          14       0.00      0.00      0.00        18\n",
            "          15       0.84      0.30      0.44       398\n",
            "          16       0.64      0.05      0.10       171\n",
            "          17       0.00      0.00      0.00        61\n",
            "          18       0.72      0.23      0.34       186\n",
            "          19       0.92      0.11      0.20       100\n",
            "          20       0.96      0.57      0.72       312\n",
            "          21       0.92      0.11      0.20       109\n",
            "          22       0.75      0.03      0.05       109\n",
            "          23       1.00      0.05      0.10        38\n",
            "          24       0.00      0.00      0.00        58\n",
            "          25       0.63      0.06      0.10       339\n",
            "          26       0.00      0.00      0.00        35\n",
            "          27       0.70      0.19      0.30       323\n",
            "          28       0.82      0.31      0.45       418\n",
            "          29       0.83      0.03      0.06       150\n",
            "          30       0.00      0.00      0.00       113\n",
            "          31       0.00      0.00      0.00        15\n",
            "          32       0.82      0.08      0.14       363\n",
            "          33       0.00      0.00      0.00        13\n",
            "          34       0.96      0.07      0.14       325\n",
            "          35       0.82      0.18      0.29        79\n",
            "          36       0.96      0.19      0.31       117\n",
            "          37       0.00      0.00      0.00       108\n",
            "          38       0.70      0.07      0.12       239\n",
            "          39       0.00      0.00      0.00        15\n",
            "          40       1.00      0.11      0.19        28\n",
            "          41       0.00      0.00      0.00         9\n",
            "          42       0.00      0.00      0.00         9\n",
            "\n",
            "   micro avg       0.77      0.21      0.34      8300\n",
            "   macro avg       0.55      0.11      0.17      8300\n",
            "weighted avg       0.71      0.21      0.30      8300\n",
            " samples avg       0.42      0.25      0.29      8300\n",
            "\n"
          ],
          "name": "stdout"
        },
        {
          "output_type": "stream",
          "text": [
            "/usr/local/lib/python3.6/dist-packages/sklearn/metrics/_classification.py:1272: UndefinedMetricWarning: Precision and F-score are ill-defined and being set to 0.0 in labels with no predicted samples. Use `zero_division` parameter to control this behavior.\n",
            "  _warn_prf(average, modifier, msg_start, len(result))\n",
            "/usr/local/lib/python3.6/dist-packages/sklearn/metrics/_classification.py:1272: UndefinedMetricWarning: Precision and F-score are ill-defined and being set to 0.0 in samples with no predicted labels. Use `zero_division` parameter to control this behavior.\n",
            "  _warn_prf(average, modifier, msg_start, len(result))\n",
            "/usr/local/lib/python3.6/dist-packages/sklearn/metrics/_classification.py:1272: UndefinedMetricWarning: Recall and F-score are ill-defined and being set to 0.0 in samples with no true labels. Use `zero_division` parameter to control this behavior.\n",
            "  _warn_prf(average, modifier, msg_start, len(result))\n"
          ],
          "name": "stderr"
        }
      ]
    },
    {
      "cell_type": "code",
      "metadata": {
        "id": "8r5D0IQuWHkL"
      },
      "source": [
        "# predict probabilities\r\n",
        "y_pred_prob = clf.predict_proba(xval_tfidf)"
      ],
      "execution_count": 223,
      "outputs": []
    },
    {
      "cell_type": "code",
      "metadata": {
        "id": "F4WI_DG8WLmM",
        "colab": {
          "base_uri": "https://localhost:8080/"
        },
        "outputId": "0d6cbad8-419f-43cb-aeb3-7cc1515e11cc"
      },
      "source": [
        "t = 0.25 # threshold value\r\n",
        "y_pred_new = (y_pred_prob >= t).astype(int)\r\n",
        "\r\n",
        "# evaluate performance\r\n",
        "f1_score(yval, y_pred_new, average=\"micro\")"
      ],
      "execution_count": 224,
      "outputs": [
        {
          "output_type": "execute_result",
          "data": {
            "text/plain": [
              "0.520544443734424"
            ]
          },
          "metadata": {
            "tags": []
          },
          "execution_count": 224
        }
      ]
    },
    {
      "cell_type": "code",
      "metadata": {
        "id": "eRawy1rRWzGU"
      },
      "source": [
        "# function for text cleaning \r\n",
        "def clean_text(text):\r\n",
        "    # remove backslash-apostrophe \r\n",
        "    text = re.sub(\"\\'\", \"\", text) \r\n",
        "    # remove everything except alphabets \r\n",
        "    text = re.sub(\"[^a-zA-Z]\",\" \",text) \r\n",
        "    # remove whitespaces \r\n",
        "    text = ' '.join(text.split()) \r\n",
        "    # convert text to lowercase \r\n",
        "    text = text.lower() \r\n",
        "    \r\n",
        "    return text\r\n",
        "# function to remove stopwords\r\n",
        "def remove_stopwords(text):\r\n",
        "    no_stopword_text = [w for w in text.split() if not w in stop_words]\r\n",
        "    return ' '.join(no_stopword_text)"
      ],
      "execution_count": 225,
      "outputs": []
    },
    {
      "cell_type": "code",
      "metadata": {
        "id": "xn3YIfY3WPME"
      },
      "source": [
        "def infer_tags(q):\r\n",
        "    q = clean_text(q)\r\n",
        "    q = remove_stopwords(q)\r\n",
        "    q_vec = tfidf_vectorizer.transform([q])\r\n",
        "    q_pred = clf.predict(q_vec)\r\n",
        "    return multilabel_binarizer.inverse_transform(q_pred)"
      ],
      "execution_count": 226,
      "outputs": []
    },
    {
      "cell_type": "code",
      "metadata": {
        "id": "Io6ZjgBuWbH4",
        "colab": {
          "base_uri": "https://localhost:8080/"
        },
        "outputId": "515a7165-8d48-422a-b6bb-db93f49e6c90"
      },
      "source": [
        "for i in range(5): \r\n",
        "  k = xval.sample(1).index[0] \r\n",
        "  print(\"Anime: \", data['name'][k], \r\n",
        "        \"\\nPredicted genre: \", infer_tags(xval[k])), print(\"Actual genre: \",data['genres'][k], \"\\n\")"
      ],
      "execution_count": 227,
      "outputs": [
        {
          "output_type": "stream",
          "text": [
            "Anime:  Panda-Z: The Robonimation \n",
            "Predicted genre:  [('action', 'comedy', 'mecha')]\n",
            "Actual genre:  ['action', 'comedy', 'kids', 'mecha', 'parody', 'sci-fi', 'shounen'] \n",
            "\n",
            "Anime:  Kurogane Communication \n",
            "Predicted genre:  [('sci-fi',)]\n",
            "Actual genre:  ['action', 'adventure', 'drama', 'sci-fi'] \n",
            "\n",
            "Anime:  Soukou Kihei Votoms: Vol.1 Stories of the 'A.T. Votoms' \n",
            "Predicted genre:  [()]\n",
            "Actual genre:  ['action', 'mecha', 'military', 'drama', 'sci-fi'] \n",
            "\n",
            "Anime:  Shimajirou no Wow! \n",
            "Predicted genre:  [('comedy', 'kids')]\n",
            "Actual genre:  ['adventure', 'comedy', 'fantasy', 'kids', 'magic'] \n",
            "\n",
            "Anime:  Ishindenshin Shiyou \n",
            "Predicted genre:  [('music',)]\n",
            "Actual genre:  ['music', 'kids'] \n",
            "\n"
          ],
          "name": "stdout"
        }
      ]
    },
    {
      "cell_type": "markdown",
      "metadata": {
        "id": "Fr3FRpsxbmFb"
      },
      "source": [
        "## Deep Learning"
      ]
    },
    {
      "cell_type": "code",
      "metadata": {
        "id": "wJbORUjlWGEm",
        "colab": {
          "base_uri": "https://localhost:8080/"
        },
        "outputId": "6b86de9b-91fd-44dc-8ac7-30870ac89ef4"
      },
      "source": [
        "!pip install transformers"
      ],
      "execution_count": 228,
      "outputs": [
        {
          "output_type": "stream",
          "text": [
            "Requirement already satisfied: transformers in /usr/local/lib/python3.6/dist-packages (4.1.1)\n",
            "Requirement already satisfied: tqdm>=4.27 in /usr/local/lib/python3.6/dist-packages (from transformers) (4.41.1)\n",
            "Requirement already satisfied: numpy in /usr/local/lib/python3.6/dist-packages (from transformers) (1.19.4)\n",
            "Requirement already satisfied: packaging in /usr/local/lib/python3.6/dist-packages (from transformers) (20.8)\n",
            "Requirement already satisfied: filelock in /usr/local/lib/python3.6/dist-packages (from transformers) (3.0.12)\n",
            "Requirement already satisfied: requests in /usr/local/lib/python3.6/dist-packages (from transformers) (2.23.0)\n",
            "Requirement already satisfied: dataclasses; python_version < \"3.7\" in /usr/local/lib/python3.6/dist-packages (from transformers) (0.8)\n",
            "Requirement already satisfied: regex!=2019.12.17 in /usr/local/lib/python3.6/dist-packages (from transformers) (2019.12.20)\n",
            "Requirement already satisfied: sacremoses in /usr/local/lib/python3.6/dist-packages (from transformers) (0.0.43)\n",
            "Requirement already satisfied: tokenizers==0.9.4 in /usr/local/lib/python3.6/dist-packages (from transformers) (0.9.4)\n",
            "Requirement already satisfied: pyparsing>=2.0.2 in /usr/local/lib/python3.6/dist-packages (from packaging->transformers) (2.4.7)\n",
            "Requirement already satisfied: idna<3,>=2.5 in /usr/local/lib/python3.6/dist-packages (from requests->transformers) (2.10)\n",
            "Requirement already satisfied: urllib3!=1.25.0,!=1.25.1,<1.26,>=1.21.1 in /usr/local/lib/python3.6/dist-packages (from requests->transformers) (1.24.3)\n",
            "Requirement already satisfied: chardet<4,>=3.0.2 in /usr/local/lib/python3.6/dist-packages (from requests->transformers) (3.0.4)\n",
            "Requirement already satisfied: certifi>=2017.4.17 in /usr/local/lib/python3.6/dist-packages (from requests->transformers) (2020.12.5)\n",
            "Requirement already satisfied: joblib in /usr/local/lib/python3.6/dist-packages (from sacremoses->transformers) (1.0.0)\n",
            "Requirement already satisfied: six in /usr/local/lib/python3.6/dist-packages (from sacremoses->transformers) (1.15.0)\n",
            "Requirement already satisfied: click in /usr/local/lib/python3.6/dist-packages (from sacremoses->transformers) (7.1.2)\n"
          ],
          "name": "stdout"
        }
      ]
    },
    {
      "cell_type": "code",
      "metadata": {
        "id": "DJX6ZspkV_ee"
      },
      "source": [
        "# Importing stock ml libraries\r\n",
        "import transformers\r\n",
        "import torch\r\n",
        "from torch.utils.data import Dataset, DataLoader, RandomSampler, SequentialSampler\r\n",
        "from transformers import BertTokenizer, BertModel, BertConfig\r\n",
        "\r\n",
        "# Preparing for TPU usage\r\n",
        "# import torch_xla\r\n",
        "# import torch_xla.core.xla_model as xm\r\n",
        "# device = xm.xla_device()\r\n",
        "\r\n",
        "# # Setting up the device for GPU usage\r\n",
        "\r\n",
        "from torch import cuda\r\n",
        "device = 'cuda' if cuda.is_available() else 'cpu'"
      ],
      "execution_count": 229,
      "outputs": []
    },
    {
      "cell_type": "code",
      "metadata": {
        "id": "YjBWaRyfS9eb"
      },
      "source": [
        "# Sections of config\r\n",
        "\r\n",
        "# Defining some key variables that will be used later on in the training\r\n",
        "MAX_LEN = 200\r\n",
        "TRAIN_BATCH_SIZE = 8\r\n",
        "VALID_BATCH_SIZE = 4\r\n",
        "EPOCHS = 4\r\n",
        "LEARNING_RATE = 1e-05\r\n",
        "tokenizer = BertTokenizer.from_pretrained('bert-base-uncased')"
      ],
      "execution_count": 230,
      "outputs": []
    },
    {
      "cell_type": "code",
      "metadata": {
        "id": "WWNVPQJDS-Ca"
      },
      "source": [
        "class CustomDataset(Dataset):\r\n",
        "\r\n",
        "    def __init__(self, dataframe, tokenizer, max_len):\r\n",
        "        self.tokenizer = tokenizer\r\n",
        "        self.data = dataframe\r\n",
        "        self.join_synopsis = dataframe.join_synopsis\r\n",
        "        self.targets = self.data.list\r\n",
        "        self.max_len = max_len\r\n",
        "\r\n",
        "    def __len__(self):\r\n",
        "        return len(self.join_synopsis)\r\n",
        "\r\n",
        "    def __getitem__(self, index):\r\n",
        "        join_synopsis = str(self.join_synopsis[index])\r\n",
        "        join_synopsis = \" \".join(join_synopsis.split())\r\n",
        "\r\n",
        "        inputs = self.tokenizer.encode_plus(\r\n",
        "            join_synopsis,\r\n",
        "            None,\r\n",
        "            add_special_tokens=True,\r\n",
        "            max_length=self.max_len,\r\n",
        "            pad_to_max_length=True,\r\n",
        "            return_token_type_ids=True\r\n",
        "        )\r\n",
        "\r\n",
        "        ids = inputs['input_ids']\r\n",
        "        mask = inputs['attention_mask']\r\n",
        "        token_type_ids = inputs[\"token_type_ids\"]\r\n",
        "\r\n",
        "        # ids = torch.tensor(inputs['input_ids'].to_numpy())\r\n",
        "        # mask = torch.tensor(inputs['attention_mask'].to_numpy())\r\n",
        "        # token_type_ids = torch.tensor(inputs[\"token_type_ids\"].to_numpy())\r\n",
        "\r\n",
        "        return {\r\n",
        "            'ids': torch.tensor(ids, dtype=torch.long),\r\n",
        "            'mask': torch.tensor(mask, dtype=torch.long),\r\n",
        "            'token_type_ids': torch.tensor(token_type_ids, dtype=torch.long),\r\n",
        "            'targets': torch.tensor(self.targets[index], dtype=torch.float)\r\n",
        "        }"
      ],
      "execution_count": 231,
      "outputs": []
    },
    {
      "cell_type": "code",
      "metadata": {
        "id": "ujFssdCUWOUc",
        "colab": {
          "base_uri": "https://localhost:8080/"
        },
        "outputId": "75a24ca6-f073-47a3-cf4a-32179413d709"
      },
      "source": [
        "# Creating the dataset and dataloader for the neural network\r\n",
        "\r\n",
        "train_size = 0.8\r\n",
        "train_dataset=new_df.sample(frac=train_size,random_state=200)\r\n",
        "test_dataset =new_df.drop(train_dataset.index).reset_index(drop=True)\r\n",
        "train_dataset = train_dataset.reset_index(drop=True)\r\n",
        "\r\n",
        "\r\n",
        "print(\"FULL Dataset: {}\".format(new_df.shape))\r\n",
        "print(\"TRAIN Dataset: {}\".format(train_dataset.shape))\r\n",
        "print(\"TEST Dataset: {}\".format(test_dataset.shape))\r\n",
        "\r\n",
        "training_set = CustomDataset(train_dataset, tokenizer, MAX_LEN)\r\n",
        "testing_set = CustomDataset(test_dataset, tokenizer, MAX_LEN)"
      ],
      "execution_count": 232,
      "outputs": [
        {
          "output_type": "stream",
          "text": [
            "FULL Dataset: (14565, 2)\n",
            "TRAIN Dataset: (11652, 2)\n",
            "TEST Dataset: (2913, 2)\n"
          ],
          "name": "stdout"
        }
      ]
    },
    {
      "cell_type": "code",
      "metadata": {
        "id": "GLB1n8xahI4q"
      },
      "source": [
        "train_params = {'batch_size': TRAIN_BATCH_SIZE,\r\n",
        "                'shuffle': True,\r\n",
        "                'num_workers': 0\r\n",
        "                }\r\n",
        "\r\n",
        "test_params = {'batch_size': VALID_BATCH_SIZE,\r\n",
        "                'shuffle': True,\r\n",
        "                'num_workers': 0\r\n",
        "                }\r\n",
        "\r\n",
        "training_loader = DataLoader(training_set, **train_params)\r\n",
        "testing_loader = DataLoader(testing_set, **test_params)"
      ],
      "execution_count": 233,
      "outputs": []
    },
    {
      "cell_type": "code",
      "metadata": {
        "id": "VqKxb4Vxf66K",
        "colab": {
          "base_uri": "https://localhost:8080/"
        },
        "outputId": "0456a91a-abfe-4d56-fba1-433277d3fa07"
      },
      "source": [
        "target.shape"
      ],
      "execution_count": 234,
      "outputs": [
        {
          "output_type": "execute_result",
          "data": {
            "text/plain": [
              "(14565, 44)"
            ]
          },
          "metadata": {
            "tags": []
          },
          "execution_count": 234
        }
      ]
    },
    {
      "cell_type": "code",
      "metadata": {
        "id": "LDj6Ot-NWORs",
        "colab": {
          "base_uri": "https://localhost:8080/"
        },
        "outputId": "a41362ae-f112-4fd3-e373-82aa53bdc3cd"
      },
      "source": [
        "# Creating the customized model, by adding a drop out and a dense layer on top of distil bert to get the final output for the model. \r\n",
        "\r\n",
        "class BERTClass(torch.nn.Module):\r\n",
        "    def __init__(self):\r\n",
        "        super(BERTClass, self).__init__()\r\n",
        "        self.l1 = transformers.BertModel.from_pretrained('bert-base-uncased')\r\n",
        "        self.l2 = torch.nn.Dropout(0.3)\r\n",
        "        self.l3 = torch.nn.Linear(768, 44)\r\n",
        "    \r\n",
        "    def forward(self, ids, mask, token_type_ids):\r\n",
        "        _, output_1= self.l1(ids, attention_mask = mask, token_type_ids = token_type_ids, return_dict=False)\r\n",
        "        output_2 = self.l2(output_1)\r\n",
        "        output = self.l3(output_2)\r\n",
        "        return output\r\n",
        "\r\n",
        "model = BERTClass()\r\n",
        "model.to(device)\r\n"
      ],
      "execution_count": 235,
      "outputs": [
        {
          "output_type": "execute_result",
          "data": {
            "text/plain": [
              "BERTClass(\n",
              "  (l1): BertModel(\n",
              "    (embeddings): BertEmbeddings(\n",
              "      (word_embeddings): Embedding(30522, 768, padding_idx=0)\n",
              "      (position_embeddings): Embedding(512, 768)\n",
              "      (token_type_embeddings): Embedding(2, 768)\n",
              "      (LayerNorm): LayerNorm((768,), eps=1e-12, elementwise_affine=True)\n",
              "      (dropout): Dropout(p=0.1, inplace=False)\n",
              "    )\n",
              "    (encoder): BertEncoder(\n",
              "      (layer): ModuleList(\n",
              "        (0): BertLayer(\n",
              "          (attention): BertAttention(\n",
              "            (self): BertSelfAttention(\n",
              "              (query): Linear(in_features=768, out_features=768, bias=True)\n",
              "              (key): Linear(in_features=768, out_features=768, bias=True)\n",
              "              (value): Linear(in_features=768, out_features=768, bias=True)\n",
              "              (dropout): Dropout(p=0.1, inplace=False)\n",
              "            )\n",
              "            (output): BertSelfOutput(\n",
              "              (dense): Linear(in_features=768, out_features=768, bias=True)\n",
              "              (LayerNorm): LayerNorm((768,), eps=1e-12, elementwise_affine=True)\n",
              "              (dropout): Dropout(p=0.1, inplace=False)\n",
              "            )\n",
              "          )\n",
              "          (intermediate): BertIntermediate(\n",
              "            (dense): Linear(in_features=768, out_features=3072, bias=True)\n",
              "          )\n",
              "          (output): BertOutput(\n",
              "            (dense): Linear(in_features=3072, out_features=768, bias=True)\n",
              "            (LayerNorm): LayerNorm((768,), eps=1e-12, elementwise_affine=True)\n",
              "            (dropout): Dropout(p=0.1, inplace=False)\n",
              "          )\n",
              "        )\n",
              "        (1): BertLayer(\n",
              "          (attention): BertAttention(\n",
              "            (self): BertSelfAttention(\n",
              "              (query): Linear(in_features=768, out_features=768, bias=True)\n",
              "              (key): Linear(in_features=768, out_features=768, bias=True)\n",
              "              (value): Linear(in_features=768, out_features=768, bias=True)\n",
              "              (dropout): Dropout(p=0.1, inplace=False)\n",
              "            )\n",
              "            (output): BertSelfOutput(\n",
              "              (dense): Linear(in_features=768, out_features=768, bias=True)\n",
              "              (LayerNorm): LayerNorm((768,), eps=1e-12, elementwise_affine=True)\n",
              "              (dropout): Dropout(p=0.1, inplace=False)\n",
              "            )\n",
              "          )\n",
              "          (intermediate): BertIntermediate(\n",
              "            (dense): Linear(in_features=768, out_features=3072, bias=True)\n",
              "          )\n",
              "          (output): BertOutput(\n",
              "            (dense): Linear(in_features=3072, out_features=768, bias=True)\n",
              "            (LayerNorm): LayerNorm((768,), eps=1e-12, elementwise_affine=True)\n",
              "            (dropout): Dropout(p=0.1, inplace=False)\n",
              "          )\n",
              "        )\n",
              "        (2): BertLayer(\n",
              "          (attention): BertAttention(\n",
              "            (self): BertSelfAttention(\n",
              "              (query): Linear(in_features=768, out_features=768, bias=True)\n",
              "              (key): Linear(in_features=768, out_features=768, bias=True)\n",
              "              (value): Linear(in_features=768, out_features=768, bias=True)\n",
              "              (dropout): Dropout(p=0.1, inplace=False)\n",
              "            )\n",
              "            (output): BertSelfOutput(\n",
              "              (dense): Linear(in_features=768, out_features=768, bias=True)\n",
              "              (LayerNorm): LayerNorm((768,), eps=1e-12, elementwise_affine=True)\n",
              "              (dropout): Dropout(p=0.1, inplace=False)\n",
              "            )\n",
              "          )\n",
              "          (intermediate): BertIntermediate(\n",
              "            (dense): Linear(in_features=768, out_features=3072, bias=True)\n",
              "          )\n",
              "          (output): BertOutput(\n",
              "            (dense): Linear(in_features=3072, out_features=768, bias=True)\n",
              "            (LayerNorm): LayerNorm((768,), eps=1e-12, elementwise_affine=True)\n",
              "            (dropout): Dropout(p=0.1, inplace=False)\n",
              "          )\n",
              "        )\n",
              "        (3): BertLayer(\n",
              "          (attention): BertAttention(\n",
              "            (self): BertSelfAttention(\n",
              "              (query): Linear(in_features=768, out_features=768, bias=True)\n",
              "              (key): Linear(in_features=768, out_features=768, bias=True)\n",
              "              (value): Linear(in_features=768, out_features=768, bias=True)\n",
              "              (dropout): Dropout(p=0.1, inplace=False)\n",
              "            )\n",
              "            (output): BertSelfOutput(\n",
              "              (dense): Linear(in_features=768, out_features=768, bias=True)\n",
              "              (LayerNorm): LayerNorm((768,), eps=1e-12, elementwise_affine=True)\n",
              "              (dropout): Dropout(p=0.1, inplace=False)\n",
              "            )\n",
              "          )\n",
              "          (intermediate): BertIntermediate(\n",
              "            (dense): Linear(in_features=768, out_features=3072, bias=True)\n",
              "          )\n",
              "          (output): BertOutput(\n",
              "            (dense): Linear(in_features=3072, out_features=768, bias=True)\n",
              "            (LayerNorm): LayerNorm((768,), eps=1e-12, elementwise_affine=True)\n",
              "            (dropout): Dropout(p=0.1, inplace=False)\n",
              "          )\n",
              "        )\n",
              "        (4): BertLayer(\n",
              "          (attention): BertAttention(\n",
              "            (self): BertSelfAttention(\n",
              "              (query): Linear(in_features=768, out_features=768, bias=True)\n",
              "              (key): Linear(in_features=768, out_features=768, bias=True)\n",
              "              (value): Linear(in_features=768, out_features=768, bias=True)\n",
              "              (dropout): Dropout(p=0.1, inplace=False)\n",
              "            )\n",
              "            (output): BertSelfOutput(\n",
              "              (dense): Linear(in_features=768, out_features=768, bias=True)\n",
              "              (LayerNorm): LayerNorm((768,), eps=1e-12, elementwise_affine=True)\n",
              "              (dropout): Dropout(p=0.1, inplace=False)\n",
              "            )\n",
              "          )\n",
              "          (intermediate): BertIntermediate(\n",
              "            (dense): Linear(in_features=768, out_features=3072, bias=True)\n",
              "          )\n",
              "          (output): BertOutput(\n",
              "            (dense): Linear(in_features=3072, out_features=768, bias=True)\n",
              "            (LayerNorm): LayerNorm((768,), eps=1e-12, elementwise_affine=True)\n",
              "            (dropout): Dropout(p=0.1, inplace=False)\n",
              "          )\n",
              "        )\n",
              "        (5): BertLayer(\n",
              "          (attention): BertAttention(\n",
              "            (self): BertSelfAttention(\n",
              "              (query): Linear(in_features=768, out_features=768, bias=True)\n",
              "              (key): Linear(in_features=768, out_features=768, bias=True)\n",
              "              (value): Linear(in_features=768, out_features=768, bias=True)\n",
              "              (dropout): Dropout(p=0.1, inplace=False)\n",
              "            )\n",
              "            (output): BertSelfOutput(\n",
              "              (dense): Linear(in_features=768, out_features=768, bias=True)\n",
              "              (LayerNorm): LayerNorm((768,), eps=1e-12, elementwise_affine=True)\n",
              "              (dropout): Dropout(p=0.1, inplace=False)\n",
              "            )\n",
              "          )\n",
              "          (intermediate): BertIntermediate(\n",
              "            (dense): Linear(in_features=768, out_features=3072, bias=True)\n",
              "          )\n",
              "          (output): BertOutput(\n",
              "            (dense): Linear(in_features=3072, out_features=768, bias=True)\n",
              "            (LayerNorm): LayerNorm((768,), eps=1e-12, elementwise_affine=True)\n",
              "            (dropout): Dropout(p=0.1, inplace=False)\n",
              "          )\n",
              "        )\n",
              "        (6): BertLayer(\n",
              "          (attention): BertAttention(\n",
              "            (self): BertSelfAttention(\n",
              "              (query): Linear(in_features=768, out_features=768, bias=True)\n",
              "              (key): Linear(in_features=768, out_features=768, bias=True)\n",
              "              (value): Linear(in_features=768, out_features=768, bias=True)\n",
              "              (dropout): Dropout(p=0.1, inplace=False)\n",
              "            )\n",
              "            (output): BertSelfOutput(\n",
              "              (dense): Linear(in_features=768, out_features=768, bias=True)\n",
              "              (LayerNorm): LayerNorm((768,), eps=1e-12, elementwise_affine=True)\n",
              "              (dropout): Dropout(p=0.1, inplace=False)\n",
              "            )\n",
              "          )\n",
              "          (intermediate): BertIntermediate(\n",
              "            (dense): Linear(in_features=768, out_features=3072, bias=True)\n",
              "          )\n",
              "          (output): BertOutput(\n",
              "            (dense): Linear(in_features=3072, out_features=768, bias=True)\n",
              "            (LayerNorm): LayerNorm((768,), eps=1e-12, elementwise_affine=True)\n",
              "            (dropout): Dropout(p=0.1, inplace=False)\n",
              "          )\n",
              "        )\n",
              "        (7): BertLayer(\n",
              "          (attention): BertAttention(\n",
              "            (self): BertSelfAttention(\n",
              "              (query): Linear(in_features=768, out_features=768, bias=True)\n",
              "              (key): Linear(in_features=768, out_features=768, bias=True)\n",
              "              (value): Linear(in_features=768, out_features=768, bias=True)\n",
              "              (dropout): Dropout(p=0.1, inplace=False)\n",
              "            )\n",
              "            (output): BertSelfOutput(\n",
              "              (dense): Linear(in_features=768, out_features=768, bias=True)\n",
              "              (LayerNorm): LayerNorm((768,), eps=1e-12, elementwise_affine=True)\n",
              "              (dropout): Dropout(p=0.1, inplace=False)\n",
              "            )\n",
              "          )\n",
              "          (intermediate): BertIntermediate(\n",
              "            (dense): Linear(in_features=768, out_features=3072, bias=True)\n",
              "          )\n",
              "          (output): BertOutput(\n",
              "            (dense): Linear(in_features=3072, out_features=768, bias=True)\n",
              "            (LayerNorm): LayerNorm((768,), eps=1e-12, elementwise_affine=True)\n",
              "            (dropout): Dropout(p=0.1, inplace=False)\n",
              "          )\n",
              "        )\n",
              "        (8): BertLayer(\n",
              "          (attention): BertAttention(\n",
              "            (self): BertSelfAttention(\n",
              "              (query): Linear(in_features=768, out_features=768, bias=True)\n",
              "              (key): Linear(in_features=768, out_features=768, bias=True)\n",
              "              (value): Linear(in_features=768, out_features=768, bias=True)\n",
              "              (dropout): Dropout(p=0.1, inplace=False)\n",
              "            )\n",
              "            (output): BertSelfOutput(\n",
              "              (dense): Linear(in_features=768, out_features=768, bias=True)\n",
              "              (LayerNorm): LayerNorm((768,), eps=1e-12, elementwise_affine=True)\n",
              "              (dropout): Dropout(p=0.1, inplace=False)\n",
              "            )\n",
              "          )\n",
              "          (intermediate): BertIntermediate(\n",
              "            (dense): Linear(in_features=768, out_features=3072, bias=True)\n",
              "          )\n",
              "          (output): BertOutput(\n",
              "            (dense): Linear(in_features=3072, out_features=768, bias=True)\n",
              "            (LayerNorm): LayerNorm((768,), eps=1e-12, elementwise_affine=True)\n",
              "            (dropout): Dropout(p=0.1, inplace=False)\n",
              "          )\n",
              "        )\n",
              "        (9): BertLayer(\n",
              "          (attention): BertAttention(\n",
              "            (self): BertSelfAttention(\n",
              "              (query): Linear(in_features=768, out_features=768, bias=True)\n",
              "              (key): Linear(in_features=768, out_features=768, bias=True)\n",
              "              (value): Linear(in_features=768, out_features=768, bias=True)\n",
              "              (dropout): Dropout(p=0.1, inplace=False)\n",
              "            )\n",
              "            (output): BertSelfOutput(\n",
              "              (dense): Linear(in_features=768, out_features=768, bias=True)\n",
              "              (LayerNorm): LayerNorm((768,), eps=1e-12, elementwise_affine=True)\n",
              "              (dropout): Dropout(p=0.1, inplace=False)\n",
              "            )\n",
              "          )\n",
              "          (intermediate): BertIntermediate(\n",
              "            (dense): Linear(in_features=768, out_features=3072, bias=True)\n",
              "          )\n",
              "          (output): BertOutput(\n",
              "            (dense): Linear(in_features=3072, out_features=768, bias=True)\n",
              "            (LayerNorm): LayerNorm((768,), eps=1e-12, elementwise_affine=True)\n",
              "            (dropout): Dropout(p=0.1, inplace=False)\n",
              "          )\n",
              "        )\n",
              "        (10): BertLayer(\n",
              "          (attention): BertAttention(\n",
              "            (self): BertSelfAttention(\n",
              "              (query): Linear(in_features=768, out_features=768, bias=True)\n",
              "              (key): Linear(in_features=768, out_features=768, bias=True)\n",
              "              (value): Linear(in_features=768, out_features=768, bias=True)\n",
              "              (dropout): Dropout(p=0.1, inplace=False)\n",
              "            )\n",
              "            (output): BertSelfOutput(\n",
              "              (dense): Linear(in_features=768, out_features=768, bias=True)\n",
              "              (LayerNorm): LayerNorm((768,), eps=1e-12, elementwise_affine=True)\n",
              "              (dropout): Dropout(p=0.1, inplace=False)\n",
              "            )\n",
              "          )\n",
              "          (intermediate): BertIntermediate(\n",
              "            (dense): Linear(in_features=768, out_features=3072, bias=True)\n",
              "          )\n",
              "          (output): BertOutput(\n",
              "            (dense): Linear(in_features=3072, out_features=768, bias=True)\n",
              "            (LayerNorm): LayerNorm((768,), eps=1e-12, elementwise_affine=True)\n",
              "            (dropout): Dropout(p=0.1, inplace=False)\n",
              "          )\n",
              "        )\n",
              "        (11): BertLayer(\n",
              "          (attention): BertAttention(\n",
              "            (self): BertSelfAttention(\n",
              "              (query): Linear(in_features=768, out_features=768, bias=True)\n",
              "              (key): Linear(in_features=768, out_features=768, bias=True)\n",
              "              (value): Linear(in_features=768, out_features=768, bias=True)\n",
              "              (dropout): Dropout(p=0.1, inplace=False)\n",
              "            )\n",
              "            (output): BertSelfOutput(\n",
              "              (dense): Linear(in_features=768, out_features=768, bias=True)\n",
              "              (LayerNorm): LayerNorm((768,), eps=1e-12, elementwise_affine=True)\n",
              "              (dropout): Dropout(p=0.1, inplace=False)\n",
              "            )\n",
              "          )\n",
              "          (intermediate): BertIntermediate(\n",
              "            (dense): Linear(in_features=768, out_features=3072, bias=True)\n",
              "          )\n",
              "          (output): BertOutput(\n",
              "            (dense): Linear(in_features=3072, out_features=768, bias=True)\n",
              "            (LayerNorm): LayerNorm((768,), eps=1e-12, elementwise_affine=True)\n",
              "            (dropout): Dropout(p=0.1, inplace=False)\n",
              "          )\n",
              "        )\n",
              "      )\n",
              "    )\n",
              "    (pooler): BertPooler(\n",
              "      (dense): Linear(in_features=768, out_features=768, bias=True)\n",
              "      (activation): Tanh()\n",
              "    )\n",
              "  )\n",
              "  (l2): Dropout(p=0.3, inplace=False)\n",
              "  (l3): Linear(in_features=768, out_features=44, bias=True)\n",
              ")"
            ]
          },
          "metadata": {
            "tags": []
          },
          "execution_count": 235
        }
      ]
    },
    {
      "cell_type": "code",
      "metadata": {
        "id": "SDtdliQRWOPo"
      },
      "source": [
        "def loss_fn(outputs, targets):\r\n",
        "    return torch.nn.BCEWithLogitsLoss()(outputs, targets)"
      ],
      "execution_count": 236,
      "outputs": []
    },
    {
      "cell_type": "code",
      "metadata": {
        "id": "Or_h8ezUWOMg"
      },
      "source": [
        "optimizer = torch.optim.Adam(params =  model.parameters(), lr=LEARNING_RATE)"
      ],
      "execution_count": 237,
      "outputs": []
    },
    {
      "cell_type": "code",
      "metadata": {
        "id": "2CjcbNARWOKH"
      },
      "source": [
        "def train(epoch):\r\n",
        "    model.train()\r\n",
        "    for _,data in enumerate(training_loader, 0):\r\n",
        "        ids = data['ids'].to(device, dtype = torch.long)\r\n",
        "        mask = data['mask'].to(device, dtype = torch.long)\r\n",
        "        token_type_ids = data['token_type_ids'].to(device, dtype = torch.long)\r\n",
        "        targets = data['targets'].to(device, dtype = torch.float)\r\n",
        "\r\n",
        "        outputs = model(ids, mask, token_type_ids)\r\n",
        "\r\n",
        "        optimizer.zero_grad()\r\n",
        "        loss = loss_fn(outputs, targets)\r\n",
        "        if _%5000==0:\r\n",
        "            print(f'Epoch: {epoch}, Loss:  {loss.item()}')\r\n",
        "        \r\n",
        "        optimizer.zero_grad()\r\n",
        "        loss.backward()\r\n",
        "        optimizer.step()"
      ],
      "execution_count": 238,
      "outputs": []
    },
    {
      "cell_type": "code",
      "metadata": {
        "id": "ScmeTFyoWOHh",
        "colab": {
          "base_uri": "https://localhost:8080/"
        },
        "outputId": "6f05aa40-f064-43d5-e86f-e3b90bf00f44"
      },
      "source": [
        "for epoch in range(EPOCHS):\r\n",
        "    train(epoch)"
      ],
      "execution_count": 239,
      "outputs": [
        {
          "output_type": "stream",
          "text": [
            "Truncation was not explicitly activated but `max_length` is provided a specific value, please use `truncation=True` to explicitly truncate examples to max length. Defaulting to 'longest_first' truncation strategy. If you encode pairs of sequences (GLUE-style) with the tokenizer you can select this strategy more precisely by providing a specific strategy to `truncation`.\n",
            "/usr/local/lib/python3.6/dist-packages/transformers/tokenization_utils_base.py:2179: FutureWarning: The `pad_to_max_length` argument is deprecated and will be removed in a future version, use `padding=True` or `padding='longest'` to pad to the longest sequence in the batch, or use `padding='max_length'` to pad to a max length. In this case, you can give a specific length with `max_length` (e.g. `max_length=45`) or leave max_length to None to pad to the maximal input size of the model (e.g. 512 for Bert).\n",
            "  FutureWarning,\n"
          ],
          "name": "stderr"
        },
        {
          "output_type": "stream",
          "text": [
            "Epoch: 0, Loss:  0.7096258401870728\n",
            "Epoch: 1, Loss:  0.22557686269283295\n",
            "Epoch: 2, Loss:  0.13724632561206818\n",
            "Epoch: 3, Loss:  0.2148236632347107\n"
          ],
          "name": "stdout"
        }
      ]
    },
    {
      "cell_type": "code",
      "metadata": {
        "id": "nIEoUm4aQkyl"
      },
      "source": [
        "def validation(epoch):\n",
        "    model.eval()\n",
        "    fin_targets=[]\n",
        "    fin_outputs=[]\n",
        "    with torch.no_grad():\n",
        "        for _, data in enumerate(testing_loader, 0):\n",
        "            ids = data['ids'].to(device, dtype = torch.long)\n",
        "            mask = data['mask'].to(device, dtype = torch.long)\n",
        "            token_type_ids = data['token_type_ids'].to(device, dtype = torch.long)\n",
        "            targets = data['targets'].to(device, dtype = torch.float)\n",
        "            \n",
        "            outputs = model(ids, mask, token_type_ids)\n",
        "            fin_targets.extend(targets.cpu().detach().numpy().tolist())\n",
        "            fin_outputs.extend(torch.sigmoid(outputs).cpu().detach().numpy().tolist())\n",
        "    return fin_outputs, fin_targets"
      ],
      "execution_count": 240,
      "outputs": []
    },
    {
      "cell_type": "code",
      "metadata": {
        "id": "Ov1_3R_pAcMo",
        "colab": {
          "base_uri": "https://localhost:8080/"
        },
        "outputId": "3a05b259-40c3-468f-de63-b0d5c1f97d70"
      },
      "source": [
        "for epoch in range(EPOCHS):\n",
        "    outputs, targets = validation(epoch)\n",
        "    outputs = np.array(outputs) >= 0.5\n",
        "    accuracy = metrics.accuracy_score(targets, outputs)\n",
        "    f1_score_micro = metrics.f1_score(targets, outputs, average='micro')\n",
        "    f1_score_macro = metrics.f1_score(targets, outputs, average='macro')\n",
        "    print(f\"Accuracy Score = {accuracy}\")\n",
        "    print(f\"F1 Score (Micro) = {f1_score_micro}\")\n",
        "    print(f\"F1 Score (Macro) = {f1_score_macro}\")"
      ],
      "execution_count": 241,
      "outputs": [
        {
          "output_type": "stream",
          "text": [
            "/usr/local/lib/python3.6/dist-packages/transformers/tokenization_utils_base.py:2179: FutureWarning: The `pad_to_max_length` argument is deprecated and will be removed in a future version, use `padding=True` or `padding='longest'` to pad to the longest sequence in the batch, or use `padding='max_length'` to pad to a max length. In this case, you can give a specific length with `max_length` (e.g. `max_length=45`) or leave max_length to None to pad to the maximal input size of the model (e.g. 512 for Bert).\n",
            "  FutureWarning,\n"
          ],
          "name": "stderr"
        },
        {
          "output_type": "stream",
          "text": [
            "Accuracy Score = 0.1283899759697906\n",
            "F1 Score (Micro) = 0.4093576785132051\n",
            "F1 Score (Macro) = 0.16810696940340908\n",
            "Accuracy Score = 0.1283899759697906\n",
            "F1 Score (Micro) = 0.4093576785132051\n",
            "F1 Score (Macro) = 0.16810696940340908\n",
            "Accuracy Score = 0.1283899759697906\n",
            "F1 Score (Micro) = 0.4093576785132051\n",
            "F1 Score (Macro) = 0.16810696940340908\n",
            "Accuracy Score = 0.1283899759697906\n",
            "F1 Score (Micro) = 0.4093576785132051\n",
            "F1 Score (Macro) = 0.16810696940340908\n"
          ],
          "name": "stdout"
        }
      ]
    }
  ]
}
